{
 "cells": [
  {
   "cell_type": "markdown",
   "metadata": {},
   "source": [
    "# Job Postings Analysis\n",
    "\n",
    "What the job market for tech industry looks like during the pandemic? Covid-19 poses unparalled challenges for the US economy. How do tech companies deal with hiring during the pandemic? We'll analyze job postings from Indeed to see how the pandemic affects the job market in some states in the U.S, thereby making recommendations for job seekers to strategically get their dream jobs."
   ]
  },
  {
   "cell_type": "code",
   "execution_count": 86,
   "metadata": {},
   "outputs": [],
   "source": [
    "import nltk\n",
    "import pandas as pd\n",
    "import numpy as np\n",
    "from sklearn.feature_extraction.text import CountVectorizer\n",
    "from sklearn.decomposition import NMF\n",
    "import text_normalize as tn\n",
    "import matplotlib.pyplot as plt\n",
    "%matplotlib inline"
   ]
  },
  {
   "cell_type": "code",
   "execution_count": 149,
   "metadata": {},
   "outputs": [],
   "source": [
    "jobInfo = pd.read_csv('data/IndeedJobPosts.csv')\n",
    "jobDesc = pd.read_csv('data/JobDesc.csv')"
   ]
  },
  {
   "cell_type": "code",
   "execution_count": 150,
   "metadata": {},
   "outputs": [
    {
     "data": {
      "text/html": [
       "<div>\n",
       "<style scoped>\n",
       "    .dataframe tbody tr th:only-of-type {\n",
       "        vertical-align: middle;\n",
       "    }\n",
       "\n",
       "    .dataframe tbody tr th {\n",
       "        vertical-align: top;\n",
       "    }\n",
       "\n",
       "    .dataframe thead th {\n",
       "        text-align: right;\n",
       "    }\n",
       "</style>\n",
       "<table border=\"1\" class=\"dataframe\">\n",
       "  <thead>\n",
       "    <tr style=\"text-align: right;\">\n",
       "      <th></th>\n",
       "      <th>Unnamed: 0</th>\n",
       "      <th>title</th>\n",
       "      <th>summarylinks</th>\n",
       "      <th>name</th>\n",
       "      <th>location</th>\n",
       "    </tr>\n",
       "  </thead>\n",
       "  <tbody>\n",
       "    <tr>\n",
       "      <td>0</td>\n",
       "      <td>0</td>\n",
       "      <td>Data Scientist</td>\n",
       "      <td>https://www.indeed.com/company/GradTests/jobs/Data-Scientist-cb83495bc53e4cd0?fccid=3b57c72e54f9233d&amp;vjs=3</td>\n",
       "      <td>GradTests (gradtests.com)</td>\n",
       "      <td>Houston, TX</td>\n",
       "    </tr>\n",
       "    <tr>\n",
       "      <td>1</td>\n",
       "      <td>1</td>\n",
       "      <td>Data Scientist - Production Research</td>\n",
       "      <td>https://www.indeed.com/rc/clk?jk=bddcb1faeb174b60&amp;fccid=3c78581902185d47&amp;vjs=3</td>\n",
       "      <td>RiceTec, Inc.</td>\n",
       "      <td>Alvin, TX</td>\n",
       "    </tr>\n",
       "    <tr>\n",
       "      <td>2</td>\n",
       "      <td>2</td>\n",
       "      <td>Data Scientist</td>\n",
       "      <td>https://www.indeed.com/rc/clk?jk=920503f4cad6ef57&amp;fccid=228c7dfd08a45e32&amp;vjs=3</td>\n",
       "      <td>Tokio Marine HCC</td>\n",
       "      <td>Houston, TX 77040 (Fairbanks - Northwest Crossing area)</td>\n",
       "    </tr>\n",
       "  </tbody>\n",
       "</table>\n",
       "</div>"
      ],
      "text/plain": [
       "   Unnamed: 0                                 title  \\\n",
       "0  0           Data Scientist                         \n",
       "1  1           Data Scientist - Production Research   \n",
       "2  2           Data Scientist                         \n",
       "\n",
       "                                                                                                 summarylinks  \\\n",
       "0  https://www.indeed.com/company/GradTests/jobs/Data-Scientist-cb83495bc53e4cd0?fccid=3b57c72e54f9233d&vjs=3   \n",
       "1  https://www.indeed.com/rc/clk?jk=bddcb1faeb174b60&fccid=3c78581902185d47&vjs=3                               \n",
       "2  https://www.indeed.com/rc/clk?jk=920503f4cad6ef57&fccid=228c7dfd08a45e32&vjs=3                               \n",
       "\n",
       "                        name  \\\n",
       "0  GradTests (gradtests.com)   \n",
       "1  RiceTec, Inc.               \n",
       "2  Tokio Marine HCC            \n",
       "\n",
       "                                                  location  \n",
       "0  Houston, TX                                              \n",
       "1  Alvin, TX                                                \n",
       "2  Houston, TX 77040 (Fairbanks - Northwest Crossing area)  "
      ]
     },
     "metadata": {},
     "output_type": "display_data"
    }
   ],
   "source": [
    "# Job info\n",
    "jobInfo.summarylinks = 'https://www.indeed.com' + jobInfo['summarylinks']\n",
    "display(jobInfo.head(3))"
   ]
  },
  {
   "cell_type": "code",
   "execution_count": 151,
   "metadata": {},
   "outputs": [
    {
     "data": {
      "text/html": [
       "<div>\n",
       "<style scoped>\n",
       "    .dataframe tbody tr th:only-of-type {\n",
       "        vertical-align: middle;\n",
       "    }\n",
       "\n",
       "    .dataframe tbody tr th {\n",
       "        vertical-align: top;\n",
       "    }\n",
       "\n",
       "    .dataframe thead th {\n",
       "        text-align: right;\n",
       "    }\n",
       "</style>\n",
       "<table border=\"1\" class=\"dataframe\">\n",
       "  <thead>\n",
       "    <tr style=\"text-align: right;\">\n",
       "      <th></th>\n",
       "      <th>Unnamed: 0_x</th>\n",
       "      <th>title</th>\n",
       "      <th>summarylinks</th>\n",
       "      <th>name</th>\n",
       "      <th>location</th>\n",
       "      <th>Unnamed: 0_y</th>\n",
       "      <th>links</th>\n",
       "      <th>description</th>\n",
       "    </tr>\n",
       "  </thead>\n",
       "  <tbody>\n",
       "    <tr>\n",
       "      <td>0</td>\n",
       "      <td>0</td>\n",
       "      <td>Data Scientist</td>\n",
       "      <td>https://www.indeed.com/company/GradTests/jobs/Data-Scientist-cb83495bc53e4cd0?fccid=3b57c72e54f9233d&amp;vjs=3</td>\n",
       "      <td>GradTests (gradtests.com)</td>\n",
       "      <td>Houston, TX</td>\n",
       "      <td>0</td>\n",
       "      <td>https://www.indeed.com/company/GradTests/jobs/Data-Scientist-cb83495bc53e4cd0?fccid=3b57c72e54f9233d&amp;vjs=3</td>\n",
       "      <td>The BusinessGradTests.com is a leading provider of practice psychometric tests to graduates, students and young professionals.The RoleA data science all rounder role. The core purpose of the role is to build models to improve the product, the customer experience and ultimately the business. We're looking for someone with a nice blend of technical skills, and softer skills like business acumen, decision making and communication skills.You'll do things like:Conceive, devise, create, implement and fine tune data science models to solve a range of business problems, from customer churn through toSet up, run and analyse A/B experiments for the website and email marketing campaignsHelp devise and layout a high quality infrastructure, upon which future data science can flourishHelp up skill other analytical team members into advanced data science techniquesProduce ad hoc analysesAnd let's be honest, a whole load of data wrangling!Skills and experienceNon negotiables:SQLPython or RData science models (K-means, random Forrest, neural nets etc.)Strong foundational knowledge in stats and mathsExperience in actually productionising models and exposing to real customersBusiness acumenStrong communication skills, both written and verbalNice to haves:Experience in working with developers, especially on experimentationSome kind of cloud based experience (AWS preferred)Some basic knowledge of source control with GitOur application process consists of some online testing with Alooba, video call interview and then a case study. We expect the process to take about 10 business days end to end.Job Types: Full-time, ContractSalary: $120,000.00 /yearExperience:Analytics: 1 year (Preferred)Work Remotely:Yes</td>\n",
       "    </tr>\n",
       "    <tr>\n",
       "      <td>1</td>\n",
       "      <td>1</td>\n",
       "      <td>Data Scientist - Production Research</td>\n",
       "      <td>https://www.indeed.com/rc/clk?jk=bddcb1faeb174b60&amp;fccid=3c78581902185d47&amp;vjs=3</td>\n",
       "      <td>RiceTec, Inc.</td>\n",
       "      <td>Alvin, TX</td>\n",
       "      <td>1</td>\n",
       "      <td>https://www.indeed.com/rc/clk?jk=bddcb1faeb174b60&amp;fccid=3c78581902185d47&amp;vjs=3</td>\n",
       "      <td>The RiceTec Data Scientist will need to Design strategies and implement algorithms to analyze and leverage data; assessing the effectiveness and accuracy of data sources to be used as inputs in data analysis; to implement visualization systems that make data readily available and simplify how insights are communicated.\\n\\nThis analysis will be used for detection of crop response to sync management techniques, fertilizers and other crop production inputs; development of crop and pest management aids based on aerial images in large production fields; validation of small plot data collected by aerial sensors with established ground-based information.\\n\\nAnalysis will also focus on identifying opportunities for new and existing weather models to create value in supply reliability; parent line production; crop management.\\n\\nResults should translate production problems into data-driven analytics / machine-learning tasks and building related products which automate the operational functions in production and manufacturing areas.\\n\\nCandidates should have experience in building advanced analytics models across one or more areas of Predictive/Prescriptive Analytics, and Image Processing; Expertise in analytical packages such as Python, R, Statistical packages like Statistica, Minitab; applied experience in various machine learning techniques (e.g. Neural Networks).\\n\\nRequirements: Masters in Statistics, Mathematics, Machine Learning, Agricultural Statistics or Climatology. PhD is Preferred.</td>\n",
       "    </tr>\n",
       "  </tbody>\n",
       "</table>\n",
       "</div>"
      ],
      "text/plain": [
       "   Unnamed: 0_x                                 title  \\\n",
       "0  0             Data Scientist                         \n",
       "1  1             Data Scientist - Production Research   \n",
       "\n",
       "                                                                                                 summarylinks  \\\n",
       "0  https://www.indeed.com/company/GradTests/jobs/Data-Scientist-cb83495bc53e4cd0?fccid=3b57c72e54f9233d&vjs=3   \n",
       "1  https://www.indeed.com/rc/clk?jk=bddcb1faeb174b60&fccid=3c78581902185d47&vjs=3                               \n",
       "\n",
       "                        name     location  Unnamed: 0_y  \\\n",
       "0  GradTests (gradtests.com)  Houston, TX  0              \n",
       "1  RiceTec, Inc.              Alvin, TX    1              \n",
       "\n",
       "                                                                                                        links  \\\n",
       "0  https://www.indeed.com/company/GradTests/jobs/Data-Scientist-cb83495bc53e4cd0?fccid=3b57c72e54f9233d&vjs=3   \n",
       "1  https://www.indeed.com/rc/clk?jk=bddcb1faeb174b60&fccid=3c78581902185d47&vjs=3                               \n",
       "\n",
       "                                                                                                                                                                                                                                                                                                                                                                                                                                                                                                                                                                                                                                                                                                                                                                                                                                                                                                                                                                                                                                                                                                                                                                                                                                                                                                                                                                                                                                                                                                                                                                                                                                                                                                                                                                       description  \n",
       "0  The BusinessGradTests.com is a leading provider of practice psychometric tests to graduates, students and young professionals.The RoleA data science all rounder role. The core purpose of the role is to build models to improve the product, the customer experience and ultimately the business. We're looking for someone with a nice blend of technical skills, and softer skills like business acumen, decision making and communication skills.You'll do things like:Conceive, devise, create, implement and fine tune data science models to solve a range of business problems, from customer churn through toSet up, run and analyse A/B experiments for the website and email marketing campaignsHelp devise and layout a high quality infrastructure, upon which future data science can flourishHelp up skill other analytical team members into advanced data science techniquesProduce ad hoc analysesAnd let's be honest, a whole load of data wrangling!Skills and experienceNon negotiables:SQLPython or RData science models (K-means, random Forrest, neural nets etc.)Strong foundational knowledge in stats and mathsExperience in actually productionising models and exposing to real customersBusiness acumenStrong communication skills, both written and verbalNice to haves:Experience in working with developers, especially on experimentationSome kind of cloud based experience (AWS preferred)Some basic knowledge of source control with GitOur application process consists of some online testing with Alooba, video call interview and then a case study. We expect the process to take about 10 business days end to end.Job Types: Full-time, ContractSalary: $120,000.00 /yearExperience:Analytics: 1 year (Preferred)Work Remotely:Yes  \n",
       "1  The RiceTec Data Scientist will need to Design strategies and implement algorithms to analyze and leverage data; assessing the effectiveness and accuracy of data sources to be used as inputs in data analysis; to implement visualization systems that make data readily available and simplify how insights are communicated.\\n\\nThis analysis will be used for detection of crop response to sync management techniques, fertilizers and other crop production inputs; development of crop and pest management aids based on aerial images in large production fields; validation of small plot data collected by aerial sensors with established ground-based information.\\n\\nAnalysis will also focus on identifying opportunities for new and existing weather models to create value in supply reliability; parent line production; crop management.\\n\\nResults should translate production problems into data-driven analytics / machine-learning tasks and building related products which automate the operational functions in production and manufacturing areas.\\n\\nCandidates should have experience in building advanced analytics models across one or more areas of Predictive/Prescriptive Analytics, and Image Processing; Expertise in analytical packages such as Python, R, Statistical packages like Statistica, Minitab; applied experience in various machine learning techniques (e.g. Neural Networks).\\n\\nRequirements: Masters in Statistics, Mathematics, Machine Learning, Agricultural Statistics or Climatology. PhD is Preferred.                                                                                                                                                                                                             "
      ]
     },
     "execution_count": 151,
     "metadata": {},
     "output_type": "execute_result"
    }
   ],
   "source": [
    "# Merge dataframes\n",
    "mergedDf = jobInfo.merge(jobDesc, left_on='summarylinks', right_on='links')\n",
    "mergedDf.head(2)"
   ]
  },
  {
   "cell_type": "markdown",
   "metadata": {},
   "source": [
    "## New Tech Jobs by State\n",
    "\n",
    "We'll analyze the current job market by state in tech industry"
   ]
  },
  {
   "cell_type": "markdown",
   "metadata": {},
   "source": [
    "### Job Distribution by State"
   ]
  },
  {
   "cell_type": "code",
   "execution_count": 135,
   "metadata": {},
   "outputs": [
    {
     "data": {
      "text/plain": [
       "Text(0.5, 1.0, 'Job Distribution by States')"
      ]
     },
     "execution_count": 135,
     "metadata": {},
     "output_type": "execute_result"
    },
    {
     "data": {
      "image/png": "[encoded data removed]",
      "text/plain": [
       "<Figure size 432x288 with 1 Axes>"
      ]
     },
     "metadata": {
      "needs_background": "light"
     },
     "output_type": "display_data"
    }
   ],
   "source": [
    "import re\n",
    "locs = mergedDf.location.unique()\n",
    "states = {'TX':[], 'NY':[],'PA':[], 'CA':[], 'MA':[],'DC':[]}\n",
    "for state in states:                        \n",
    "    pattern = re.compile(state)\n",
    "    for idx, x in enumerate(locs):\n",
    "        if re.search(pattern, x):\n",
    "            states[state].append(idx)\n",
    "\n",
    "NY = mergedDf.iloc[states['NY'],:]\n",
    "TX = mergedDf.iloc[states['TX'],:]\n",
    "PA = mergedDf.iloc[states['PA'],:]\n",
    "CA = mergedDf.iloc[states['CA'],:]\n",
    "MA = mergedDf.iloc[states['MA'],:]\n",
    "DC = mergedDf.iloc[states['DC'],:]\n",
    "States = [NY, TX, PA, MA, DC]\n",
    "no_jobs = [len(x) for x in States]\n",
    "# Distribution of new jobs by State\n",
    "plt.bar([0,1,2,3,4],no_jobs)\n",
    "plt.xticks([0,1,2,3,4],list(states.keys()))\n",
    "plt.title('Job Distribution by States', fontsize=20)"
   ]
  },
  {
   "cell_type": "markdown",
   "metadata": {},
   "source": [
    "The plot shows that tech jobs in NY, PA, CA are on high demand. It's interesting as NY and CA are in not so good position during the pandemic. We'll analyze these states to see what the trends."
   ]
  },
  {
   "cell_type": "markdown",
   "metadata": {},
   "source": [
    "### Job Post Analysis by State\n",
    "\n",
    "One way to see the trend in job market by state is to analyze the job descriptions in each state. The following sections perform non-negative matrix factorization to extract important topics from job postings by three states NY, CA, PA."
   ]
  },
  {
   "cell_type": "markdown",
   "metadata": {},
   "source": [
    "Before performing text analysis, we need to perform preprocessing of text (remove stopwords, lemmatize, remove accented words,\n",
    "Tokenize etc) and transform them in numeric form as computers do not understand words. "
   ]
  },
  {
   "cell_type": "code",
   "execution_count": 127,
   "metadata": {},
   "outputs": [
    {
     "name": "stdout",
     "output_type": "stream",
     "text": [
      "Wall time: 0 ns\n",
      "Took 9.9115 seconds with 6 process(es).\n",
      "Took 12.0147 seconds with 6 process(es).\n",
      "Took 10.2670 seconds with 6 process(es).\n"
     ]
    }
   ],
   "source": [
    "%time\n",
    "# Parallel processing\n",
    "# The scripts are in text_normalize.py\n",
    "NY_corpus = tn.parallel_normalize_corpus(NY.description.values)\n",
    "CA_corpus = tn.parallel_normalize_corpus(TX.description.values)\n",
    "PA_corpus = tn.parallel_normalize_corpus(PA.description.values)\n"
   ]
  },
  {
   "cell_type": "code",
   "execution_count": 129,
   "metadata": {},
   "outputs": [],
   "source": [
    "corpuses = {'NY':NY_corpus, 'DC':DC_corpus, 'CA':CA_corpus}\n",
    "norm_corpus = {}\n",
    "# Tokernize text corpus\n",
    "for state, corpus in corpuses.items():\n",
    "     norm_corpus[state] = [x.split(' ') for x in corpus]"
   ]
  },
  {
   "cell_type": "markdown",
   "metadata": {},
   "source": [
    "Here's the text corpus after preprocessing"
   ]
  },
  {
   "cell_type": "code",
   "execution_count": 152,
   "metadata": {},
   "outputs": [
    {
     "name": "stdout",
     "output_type": "stream",
     "text": [
      "3\n",
      "['businessgradtests', 'com', 'lead', 'provider', 'practice', 'psychometric', 'test', 'graduate', 'student', 'young', 'professionals', 'rolea', 'datum', 'science', 'rounder', 'role', 'core', 'purpose', 'role', 'build', 'model', 'improve', 'product', 'customer', 'experience', 'ultimately', 'business', 'look', 'someone', 'nice', 'blend', 'technical', 'skill', 'soft', 'skill', 'like', 'business', 'acuman', 'decision', 'making', 'communication', 'skills', 'thing', 'like', 'conceive', 'devise', 'create', 'implement', 'fine', 'tune']\n"
     ]
    }
   ],
   "source": [
    "print(len(norm_corpus))\n",
    "print(norm_corpus['CA'][0][0:50])"
   ]
  },
  {
   "cell_type": "markdown",
   "metadata": {},
   "source": [
    "#### Job Trend in NY"
   ]
  },
  {
   "cell_type": "markdown",
   "metadata": {},
   "source": [
    "We'll perform feature engineering with tf-idf while removing terms that appear in fewer than 5 documents and more than 60% of the document. The reason is that these terms either are too specific or overgeneralized that they fail to capture the essential trend in the job market"
   ]
  },
  {
   "cell_type": "code",
   "execution_count": 118,
   "metadata": {},
   "outputs": [
    {
     "data": {
      "text/plain": [
       "(81, 987)"
      ]
     },
     "execution_count": 118,
     "metadata": {},
     "output_type": "execute_result"
    }
   ],
   "source": [
    "# Feature Engineering\n",
    "cv = CountVectorizer(min_df=5, max_df=0.6, ngram_range=(1,2),\n",
    "                    token_pattern=None, tokenizer=lambda doc: doc,\n",
    "                    preprocessor=lambda doc: doc)\n",
    "\n",
    "cv_features = cv.fit_transform(norm_corpus['NY'])\n",
    "cv_features.shape"
   ]
  },
  {
   "cell_type": "code",
   "execution_count": 119,
   "metadata": {},
   "outputs": [
    {
     "name": "stdout",
     "output_type": "stream",
     "text": [
      "Total Vocabulary Size: 987\n"
     ]
    }
   ],
   "source": [
    "vocabulary = np.array(cv.get_feature_names())\n",
    "print('Total Vocabulary Size:', len(vocabulary))\n",
    "Total_Topic = 6\n",
    "nmf_model = NMF(n_components=Total_Topic, solver='cd', max_iter=500,\n",
    "               random_state=42, alpha=.1, l1_ratio=.85)\n",
    "\n",
    "document_topics = nmf_model.fit_transform(cv_features)"
   ]
  },
  {
   "cell_type": "code",
   "execution_count": 120,
   "metadata": {},
   "outputs": [
    {
     "data": {
      "text/html": [
       "<div>\n",
       "<style scoped>\n",
       "    .dataframe tbody tr th:only-of-type {\n",
       "        vertical-align: middle;\n",
       "    }\n",
       "\n",
       "    .dataframe tbody tr th {\n",
       "        vertical-align: top;\n",
       "    }\n",
       "\n",
       "    .dataframe thead th {\n",
       "        text-align: right;\n",
       "    }\n",
       "</style>\n",
       "<table border=\"1\" class=\"dataframe\">\n",
       "  <thead>\n",
       "    <tr style=\"text-align: right;\">\n",
       "      <th></th>\n",
       "      <th>Terms per Topic</th>\n",
       "    </tr>\n",
       "  </thead>\n",
       "  <tbody>\n",
       "    <tr>\n",
       "      <td>Topic1</td>\n",
       "      <td>project, support, provide, analysis, report, analyst, information, job, financial, system, company, forecast, sale, operation, need, customer, opportunity, planning, across, excel</td>\n",
       "    </tr>\n",
       "    <tr>\n",
       "      <td>Topic2</td>\n",
       "      <td>sachs, goldman, goldman sachs, risk, firm, engineering, financial, client, investment, global, new, world, group, make, responsibility, division, build, change, solution, qualification</td>\n",
       "    </tr>\n",
       "    <tr>\n",
       "      <td>Topic3</td>\n",
       "      <td>require, program, perform, ability, may, andor, staff, appropriate, need, use, make, client, time, duty, people, carry, training, change, maintain, report</td>\n",
       "    </tr>\n",
       "    <tr>\n",
       "      <td>Topic4</td>\n",
       "      <td>test, testing, requirement, software, design, case, ability, write, quality, test case, system, development, ensure, client, use, technical, solution, knowledge, product, job</td>\n",
       "    </tr>\n",
       "    <tr>\n",
       "      <td>Topic5</td>\n",
       "      <td>solution, technical, help, year, support, service, system, design, credit, problem, develop, organization, year experience, implement, identify, user, technology, financial, design develop, technical support</td>\n",
       "    </tr>\n",
       "    <tr>\n",
       "      <td>Topic6</td>\n",
       "      <td>network, customer, service, technical, engineer, learning, develop, world, development, new, role, people, strong, candidate, etc, opportunity, program, company, tool, technology</td>\n",
       "    </tr>\n",
       "  </tbody>\n",
       "</table>\n",
       "</div>"
      ],
      "text/plain": [
       "                                                                                                                                                                                                        Terms per Topic\n",
       "Topic1  project, support, provide, analysis, report, analyst, information, job, financial, system, company, forecast, sale, operation, need, customer, opportunity, planning, across, excel                            \n",
       "Topic2  sachs, goldman, goldman sachs, risk, firm, engineering, financial, client, investment, global, new, world, group, make, responsibility, division, build, change, solution, qualification                       \n",
       "Topic3  require, program, perform, ability, may, andor, staff, appropriate, need, use, make, client, time, duty, people, carry, training, change, maintain, report                                                     \n",
       "Topic4  test, testing, requirement, software, design, case, ability, write, quality, test case, system, development, ensure, client, use, technical, solution, knowledge, product, job                                 \n",
       "Topic5  solution, technical, help, year, support, service, system, design, credit, problem, develop, organization, year experience, implement, identify, user, technology, financial, design develop, technical support\n",
       "Topic6  network, customer, service, technical, engineer, learning, develop, world, development, new, role, people, strong, candidate, etc, opportunity, program, company, tool, technology                             "
      ]
     },
     "execution_count": 120,
     "metadata": {},
     "output_type": "execute_result"
    }
   ],
   "source": [
    "topic_terms = nmf_model.components_\n",
    "topic_key_term_idxs = np.argsort(-np.absolute(topic_terms), axis=1)[:,:20]\n",
    "topic_keyterms = vocabulary[topic_key_term_idxs]\n",
    "topics = [', '.join(topic) for topic in topic_keyterms]\n",
    "pd.set_option('display.max_colwidth', -1)\n",
    "topics_df = pd.DataFrame(topics, columns = ['Terms per Topic'], index = ['Topic' + str(t) for t in range(1,Total_Topic+1)])\n",
    "topics_df"
   ]
  },
  {
   "cell_type": "markdown",
   "metadata": {},
   "source": [
    "At first glance, some popular topics are finance, maintenance, implementation, etc. The topic analysis shows that at the moment, tech jobs in NY revolves around the finance field with report, analysis, developing, testing and engineering skills on high demand\n"
   ]
  },
  {
   "cell_type": "markdown",
   "metadata": {},
   "source": [
    "#### Job Trend in PA"
   ]
  },
  {
   "cell_type": "code",
   "execution_count": 124,
   "metadata": {},
   "outputs": [
    {
     "data": {
      "text/plain": [
       "(130, 1358)"
      ]
     },
     "execution_count": 124,
     "metadata": {},
     "output_type": "execute_result"
    }
   ],
   "source": [
    "cv = CountVectorizer(min_df=5, max_df=0.6, ngram_range=(1,2),\n",
    "                    token_pattern=None, tokenizer=lambda doc: doc,\n",
    "                    preprocessor=lambda doc: doc)\n",
    "\n",
    "cv_features = cv.fit_transform(norm_corpus['PA'])\n",
    "cv_features.shape"
   ]
  },
  {
   "cell_type": "code",
   "execution_count": 125,
   "metadata": {},
   "outputs": [
    {
     "name": "stdout",
     "output_type": "stream",
     "text": [
      "Total Vocabulary Size: 1358\n"
     ]
    }
   ],
   "source": [
    "vocabulary = np.array(cv.get_feature_names())\n",
    "print('Total Vocabulary Size:', len(vocabulary))\n",
    "Total_Topic = 6\n",
    "nmf_model = NMF(n_components=Total_Topic, solver='cd', max_iter=500,\n",
    "               random_state=42, alpha=.1, l1_ratio=.85)\n",
    "\n",
    "document_topics = nmf_model.fit_transform(cv_features)"
   ]
  },
  {
   "cell_type": "code",
   "execution_count": 126,
   "metadata": {},
   "outputs": [
    {
     "data": {
      "text/html": [
       "<div>\n",
       "<style scoped>\n",
       "    .dataframe tbody tr th:only-of-type {\n",
       "        vertical-align: middle;\n",
       "    }\n",
       "\n",
       "    .dataframe tbody tr th {\n",
       "        vertical-align: top;\n",
       "    }\n",
       "\n",
       "    .dataframe thead th {\n",
       "        text-align: right;\n",
       "    }\n",
       "</style>\n",
       "<table border=\"1\" class=\"dataframe\">\n",
       "  <thead>\n",
       "    <tr style=\"text-align: right;\">\n",
       "      <th></th>\n",
       "      <th>Terms per Topic</th>\n",
       "    </tr>\n",
       "  </thead>\n",
       "  <tbody>\n",
       "    <tr>\n",
       "      <td>Topic1</td>\n",
       "      <td>software, design, application, development, develop, use, technology, system, client, knowledge, web, digital, code, solution, skill, computer, product, environment, new, user</td>\n",
       "    </tr>\n",
       "    <tr>\n",
       "      <td>Topic2</td>\n",
       "      <td>engineering, must, require, position, document, may, engineer, professional, include, education, copy, requirement, provide, submit, program, note, service, information, applicant, agency</td>\n",
       "    </tr>\n",
       "    <tr>\n",
       "      <td>Topic3</td>\n",
       "      <td>datum, big, analytic, business, solution, decision, include, good, job, development, skill, technical, use, management, problem, science, make, learn, new, tool</td>\n",
       "    </tr>\n",
       "    <tr>\n",
       "      <td>Topic4</td>\n",
       "      <td>customer, service, microsoft, support, technology, project, business, technical, solution, product, role, skill, opportunity, partner, manager, provide, problem, lead, engineer, drive</td>\n",
       "    </tr>\n",
       "    <tr>\n",
       "      <td>Topic5</td>\n",
       "      <td>support, service, client, ticket, technical, information, specialist, ability, provide, executive, operation, request, group, job, business, need, include, issue, hour, system</td>\n",
       "    </tr>\n",
       "    <tr>\n",
       "      <td>Topic6</td>\n",
       "      <td>ability, employee, include, perform, job, opportunity, environment, provide, must, require, report, employment, duty, training, company, process, datum, skill, medical, program</td>\n",
       "    </tr>\n",
       "  </tbody>\n",
       "</table>\n",
       "</div>"
      ],
      "text/plain": [
       "                                                                                                                                                                                    Terms per Topic\n",
       "Topic1  software, design, application, development, develop, use, technology, system, client, knowledge, web, digital, code, solution, skill, computer, product, environment, new, user            \n",
       "Topic2  engineering, must, require, position, document, may, engineer, professional, include, education, copy, requirement, provide, submit, program, note, service, information, applicant, agency\n",
       "Topic3  datum, big, analytic, business, solution, decision, include, good, job, development, skill, technical, use, management, problem, science, make, learn, new, tool                           \n",
       "Topic4  customer, service, microsoft, support, technology, project, business, technical, solution, product, role, skill, opportunity, partner, manager, provide, problem, lead, engineer, drive    \n",
       "Topic5  support, service, client, ticket, technical, information, specialist, ability, provide, executive, operation, request, group, job, business, need, include, issue, hour, system            \n",
       "Topic6  ability, employee, include, perform, job, opportunity, environment, provide, must, require, report, employment, duty, training, company, process, datum, skill, medical, program           "
      ]
     },
     "execution_count": 126,
     "metadata": {},
     "output_type": "execute_result"
    }
   ],
   "source": [
    "topic_terms = nmf_model.components_\n",
    "topic_key_term_idxs = np.argsort(-np.absolute(topic_terms), axis=1)[:,:20]\n",
    "topic_keyterms = vocabulary[topic_key_term_idxs]\n",
    "topics = [', '.join(topic) for topic in topic_keyterms]\n",
    "pd.set_option('display.max_colwidth', -1)\n",
    "topics_df = pd.DataFrame(topics, columns = ['Terms per Topic'], index = ['Topic' + str(t) for t in range(1,Total_Topic+1)])\n",
    "topics_df"
   ]
  },
  {
   "cell_type": "markdown",
   "metadata": {},
   "source": [
    "SOme dominant terms are bigdata, system, maintenance, costumer, analysis, engineering, medical. The topic also shows that engineering jobs are on high demand. However, the job market in PA is more diverse (it includes jobs more customer-oriented and also jobs in medical field) as compared to the NY one where it's more finance-oriented. "
   ]
  },
  {
   "cell_type": "markdown",
   "metadata": {},
   "source": [
    "#### Job Trend in CA"
   ]
  },
  {
   "cell_type": "code",
   "execution_count": 131,
   "metadata": {},
   "outputs": [
    {
     "data": {
      "text/plain": [
       "(168, 1688)"
      ]
     },
     "execution_count": 131,
     "metadata": {},
     "output_type": "execute_result"
    }
   ],
   "source": [
    "# \n",
    "cv = CountVectorizer(min_df=5, max_df=0.6, ngram_range=(1,2),\n",
    "                    token_pattern=None, tokenizer=lambda doc: doc,\n",
    "                    preprocessor=lambda doc: doc)\n",
    "\n",
    "cv_features = cv.fit_transform(norm_corpus['CA'])\n",
    "cv_features.shape"
   ]
  },
  {
   "cell_type": "code",
   "execution_count": 132,
   "metadata": {},
   "outputs": [
    {
     "name": "stdout",
     "output_type": "stream",
     "text": [
      "Total Vocabulary Size: 1688\n"
     ]
    }
   ],
   "source": [
    "vocabulary = np.array(cv.get_feature_names())\n",
    "print('Total Vocabulary Size:', len(vocabulary))\n",
    "Total_Topic = 6\n",
    "nmf_model = NMF(n_components=Total_Topic, solver='cd', max_iter=500,\n",
    "               random_state=42, alpha=.1, l1_ratio=.85)\n",
    "\n",
    "document_topics = nmf_model.fit_transform(cv_features)"
   ]
  },
  {
   "cell_type": "code",
   "execution_count": 133,
   "metadata": {
    "scrolled": true
   },
   "outputs": [
    {
     "data": {
      "text/html": [
       "<div>\n",
       "<style scoped>\n",
       "    .dataframe tbody tr th:only-of-type {\n",
       "        vertical-align: middle;\n",
       "    }\n",
       "\n",
       "    .dataframe tbody tr th {\n",
       "        vertical-align: top;\n",
       "    }\n",
       "\n",
       "    .dataframe thead th {\n",
       "        text-align: right;\n",
       "    }\n",
       "</style>\n",
       "<table border=\"1\" class=\"dataframe\">\n",
       "  <thead>\n",
       "    <tr style=\"text-align: right;\">\n",
       "      <th></th>\n",
       "      <th>Terms per Topic</th>\n",
       "    </tr>\n",
       "  </thead>\n",
       "  <tbody>\n",
       "    <tr>\n",
       "      <td>Topic1</td>\n",
       "      <td>solution, project, client, management, large, design, customer, technical, application, business, requirement, provide, identify, support, infrastructure, help, base, industry, automation, asset</td>\n",
       "    </tr>\n",
       "    <tr>\n",
       "      <td>Topic2</td>\n",
       "      <td>system, perform, critical, maintenance, include, operation, equipment, center, require, job, employee, electrical, engineer, preferred, datum, control, may, duty, safety, environment</td>\n",
       "    </tr>\n",
       "    <tr>\n",
       "      <td>Topic3</td>\n",
       "      <td>quality, project, must, management, ensure, support, process, able, knowledge, activity, implementation, plan, system, vision, must able, validation, within, engineering, manager, assign</td>\n",
       "    </tr>\n",
       "    <tr>\n",
       "      <td>Topic4</td>\n",
       "      <td>scheduling, employee, department, schedule, staff, need, job, ensure, system, patient, care, service, position, report, time, communicate, within, daily, customer, manager</td>\n",
       "    </tr>\n",
       "    <tr>\n",
       "      <td>Topic5</td>\n",
       "      <td>software, design, application, development, system, technology, develop, engineering, program, problem, environment, computer, product, web, solve, programming, knowledge, user, c, full</td>\n",
       "    </tr>\n",
       "    <tr>\n",
       "      <td>Topic6</td>\n",
       "      <td>business, datum, ability, support, analysis, process, report, provide, financial, customer, analyst, use, sale, opportunity, strong, product, communication, company, service, management</td>\n",
       "    </tr>\n",
       "  </tbody>\n",
       "</table>\n",
       "</div>"
      ],
      "text/plain": [
       "                                                                                                                                                                                           Terms per Topic\n",
       "Topic1  solution, project, client, management, large, design, customer, technical, application, business, requirement, provide, identify, support, infrastructure, help, base, industry, automation, asset\n",
       "Topic2  system, perform, critical, maintenance, include, operation, equipment, center, require, job, employee, electrical, engineer, preferred, datum, control, may, duty, safety, environment            \n",
       "Topic3  quality, project, must, management, ensure, support, process, able, knowledge, activity, implementation, plan, system, vision, must able, validation, within, engineering, manager, assign        \n",
       "Topic4  scheduling, employee, department, schedule, staff, need, job, ensure, system, patient, care, service, position, report, time, communicate, within, daily, customer, manager                       \n",
       "Topic5  software, design, application, development, system, technology, develop, engineering, program, problem, environment, computer, product, web, solve, programming, knowledge, user, c, full         \n",
       "Topic6  business, datum, ability, support, analysis, process, report, provide, financial, customer, analyst, use, sale, opportunity, strong, product, communication, company, service, management         "
      ]
     },
     "execution_count": 133,
     "metadata": {},
     "output_type": "execute_result"
    }
   ],
   "source": [
    "topic_terms = nmf_model.components_\n",
    "topic_key_term_idxs = np.argsort(-np.absolute(topic_terms), axis=1)[:,:20]\n",
    "topic_keyterms = vocabulary[topic_key_term_idxs]\n",
    "topics = [', '.join(topic) for topic in topic_keyterms]\n",
    "pd.set_option('display.max_colwidth', -1)\n",
    "topics_df = pd.DataFrame(topics, columns = ['Terms per Topic'], index = ['Topic' + str(t) for t in range(1,Total_Topic+1)])\n",
    "topics_df"
   ]
  },
  {
   "cell_type": "markdown",
   "metadata": {},
   "source": [
    "The dominant terms are solution, client, maintenance, project, staff, communicate, product, business, engineering. Unlike the previous two states, businesses in CA are known to be highly tech-oriented. As such, jobs in CA gear more towards working among teams and satisfaction with customers. "
   ]
  },
  {
   "cell_type": "markdown",
   "metadata": {},
   "source": [
    "## Conclusion\n",
    "\n",
    "The analysis was performed on job postings scraped from Indeed for NY, PA, MA, CA, TX. Job postings in NY, CA, TX were analyzed using text analytics technique. Across various job titles in tech industry, the demand for skills in engineering, communicating are on the rise. Job seekers with financial background and engineering should apply in NY. While those with combination of skills in engineering, customer services should apply in PA, those with strong engineering background should apply in CA."
   ]
  }
 ],
 "metadata": {
  "hide_input": false,
  "kernelspec": {
   "display_name": "Python 3",
   "language": "python",
   "name": "python3"
  },
  "toc": {
   "base_numbering": 1,
   "nav_menu": {},
   "number_sections": true,
   "sideBar": true,
   "skip_h1_title": false,
   "title_cell": "Table of Contents",
   "title_sidebar": "Contents",
   "toc_cell": false,
   "toc_position": {},
   "toc_section_display": true,
   "toc_window_display": false
  },
  "varInspector": {
   "cols": {
    "lenName": 16,
    "lenType": 16,
    "lenVar": 40
   },
   "kernels_config": {
    "python": {
     "delete_cmd_postfix": "",
     "delete_cmd_prefix": "del ",
     "library": "var_list.py",
     "varRefreshCmd": "print(var_dic_list())"
    },
    "r": {
     "delete_cmd_postfix": ") ",
     "delete_cmd_prefix": "rm(",
     "library": "var_list.r",
     "varRefreshCmd": "cat(var_dic_list()) "
    }
   },
   "types_to_exclude": [
    "module",
    "function",
    "builtin_function_or_method",
    "instance",
    "_Feature"
   ],
   "window_display": false
  }
 },
 "nbformat": 4,
 "nbformat_minor": 2
}
