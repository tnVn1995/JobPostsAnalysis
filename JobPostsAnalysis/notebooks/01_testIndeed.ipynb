{
 "metadata": {
  "language_info": {
   "codemirror_mode": {
    "name": "ipython",
    "version": 3
   },
   "file_extension": ".py",
   "mimetype": "text/x-python",
   "name": "python",
   "nbconvert_exporter": "python",
   "pygments_lexer": "ipython3",
   "version": "3.8.5-final"
  },
  "orig_nbformat": 2,
  "kernelspec": {
   "name": "python3",
   "display_name": "Python 3.8.5 64-bit ('jobpostsanalysis': conda)",
   "metadata": {
    "interpreter": {
     "hash": "19015db015994ac3cd264c3cb16b5f5c5dacb6497ef1aa5f3a40c698ba0dc7a2"
    }
   }
  }
 },
 "nbformat": 4,
 "nbformat_minor": 2,
 "cells": [
  {
   "cell_type": "code",
   "execution_count": 1,
   "metadata": {},
   "outputs": [],
   "source": [
    "from bs4 import BeautifulSoup\n",
    "import pandas as pd\n",
    "import time, requests, argparse, json\n",
    "from typing import List, Dict, Union, Optional\n",
    "from config import CONFIG\n",
    "from logzero import setup_logger\n",
    "\n",
    "logger = setup_logger(name='jupyterLogger')"
   ]
  },
  {
   "cell_type": "code",
   "execution_count": 3,
   "metadata": {},
   "outputs": [],
   "source": [
    "URL = 'http://www.indeed.com/jobs?'\n",
    "queries = {'q':'data scientist', 'l': 'Houston, TX'}\n",
    "try:\n",
    "    page = requests.get(URL, params=queries)\n",
    "except Exception as e:\n",
    "    logger.debug(f\"Server's response: {page.status_code}\")\n",
    "    logger.error(e)\n",
    "else:\n",
    "    if page == None:\n",
    "        self.logger.error('Not found page')\n",
    "    else:\n",
    "        soup = BeautifulSoup(page.text, 'html.parser')\n",
    "        divs = soup.find_all(name='div', class_='jobsearch-SerpJobCard')\n"
   ]
  },
  {
   "source": [
    "jobPosts = soup.find_all('div', class_='jobsearch-SerpJobCard')\n",
    "jobPosts[0]"
   ],
   "cell_type": "code",
   "metadata": {},
   "execution_count": null,
   "outputs": []
  },
  {
   "cell_type": "code",
   "execution_count": 113,
   "metadata": {},
   "outputs": [
    {
     "output_type": "stream",
     "name": "stdout",
     "text": [
      "<div class=\"jobsearch-SerpJobCard unifiedRow row result\" data-ci=\"361555545\" data-empn=\"7186865467086996\" data-jk=\"663258a03501b6ee\" id=\"pj_663258a03501b6ee\">\n<style>\n.jobcard_logo{margin:6px 0}.jobcard_logo img{width:auto;max-width:80px;max-height:30px}.jasxrefreshcombotst .jobcard_logo img{max-height:2rem;max-width:100%}\n</style>\n<h2 class=\"title\">\n<a class=\"jobtitle turnstileLink\" data-tn-element=\"jobTitle\" href=\"/pagead/clk?mo=r&amp;ad=-6NYlbfkN0B90vXIBqWgvTqf7OKHeB9p7Zq1kPkqK3vrGjEIBoxh4TqbAfirhCaHiozdLTg_UvD_UoFbaDyN_sZjOrF0ksSUtuV5nt4GpD0WKLXuB5nG3VD1EqCqlC3jxudWFI5uQXfeELg3-ELFObYymfYMBCMlWA9BBpO1rl-m9iHRi3hJtvs7J4wuMJ4OYDETz-XC8wwAInrKDhfubGYu9z1Gdgq1CYB0-nJhXRNygG-Yli-eS1vtgDydczRRMr0kdYjGlepijirT3wPgKyW82iQPVVbh-8UyQd6r86RPkwOFd6GW9Hrc6LGXYPlj84BpxFPnMMgZt34_DbLtcX7b4FzjOyjdaqgTSqjFCLYdQQPYOoRkDsIDApjgzscwJHJHv0LOfuWrFoh43yUw_b0pvN0MK7j4wDQRxmGvBug9UuOfq6RZ6GcZpaWDffMn4fRGbkmx6f8=&amp;p=4&amp;fvj=0&amp;vjs=3\" id=\"sja4\" onclick=\"setRefineByCookie([]); sjoc('sja4', 0); convCtr('SJ'); rclk(this,jobmap[4],true,0);\" onmousedown=\"sjomd('sja4'); clk('sja4'); rclk(this,jobmap[4],0);\" rel=\"noopener nofollow\" target=\"_blank\" title=\"Business Analytics (Data Science) Intern\">\nBusiness Analytics (<b>Data</b> Science) Intern</a>\n</h2>\n<div class=\"sjcl\">\n<div>\n<span class=\"company\">\n<a class=\"turnstileLink\" data-tn-element=\"companyName\" href=\"/cmp/Hewlett-Packard-Enterprise\" onmousedown=\"this.href = appendParamsOnce(this.href, 'from=SERP&amp;campaignid=serp-linkcompanyname&amp;fromjk=663258a03501b6ee&amp;jcid=c95831c31635f73c')\" rel=\"noopener\" target=\"_blank\">\nHewlett Packard Enterprise</a></span>\n<span class=\"ratingsDisplay\">\n<a aria-label=\"Company rating 3.8 out of 5 stars\" class=\"ratingNumber\" data-tn-variant=\"cmplinktst2\" href=\"/cmp/Hewlett-Packard-Enterprise/reviews\" onmousedown=\"this.href = appendParamsOnce(this.href, '?campaignid=cmplinktst2&amp;from=SERP&amp;jt=Business+Analytics+%28Data+Science%29+Intern&amp;fromjk=663258a03501b6ee&amp;jcid=c95831c31635f73c');\" rel=\"noopener\" target=\"_blank\" title=\"Hewlett Packard Enterprise reviews\"></a>\n<span class=\"ratingsContent\">\n3.8<svg class=\"starIcon\" height=\"12px\" role=\"img\" width=\"12px\">\n<g>\n<path d=\"M 12.00,4.34 C 12.00,4.34 7.69,3.97 7.69,3.97 7.69,3.97 6.00,0.00 6.00,0.00 6.00,0.00 4.31,3.98 4.31,3.98 4.31,3.98 0.00,4.34 0.00,4.34 0.00,4.34 3.28,7.18 3.28,7.18 3.28,7.18 2.29,11.40 2.29,11.40 2.29,11.40 6.00,9.16 6.00,9.16 6.00,9.16 9.71,11.40 9.71,11.40 9.71,11.40 8.73,7.18 8.73,7.18 8.73,7.18 12.00,4.34 12.00,4.34 Z\" style=\"fill: #FFB103\"></path>\n</g>\n</svg>\n</span>\n</span></div></div></div>\n"
     ]
    }
   ],
   "source": [
    "print(divs[4])"
   ]
  },
  {
   "cell_type": "code",
   "execution_count": 7,
   "metadata": {},
   "outputs": [],
   "source": [
    "import re\n",
    "info =[]\n",
    "for div in divs:\n",
    "    temp_info = {}\n",
    "    for a in div.find_all('a', class_= re.compile(r\"jobtitle.*\")):\n",
    "        temp_info['title'] = a.text\n",
    "        temp_info['summarylinks'] = a['href']\n",
    "    for name in div.find_all('span', attrs={'class': 'company'}):\n",
    "        temp_info['name'] = name.text\n",
    "    for loc in div.find_all('div', class_='location accessible-contrast-color-location'):\n",
    "        temp_info['location'] = loc.text\n",
    "    info.append(temp_info)\n"
   ]
  },
  {
   "cell_type": "code",
   "execution_count": 8,
   "metadata": {},
   "outputs": [
    {
     "output_type": "execute_result",
     "data": {
      "text/plain": [
       "[{'title': '\\nArchitecture Data Scientist',\n",
       "  'summarylinks': '/pagead/clk?mo=r&ad=-6NYlbfkN0C4JTuWysBZGWr3ScYyn1q3GP1Wt9Y6KOMkEf9pRAXJOWsVIs1722niEMWH1tX4ZZCGEzLVh4D_WHn1m2gjFAQ6gEvk6nQ2T4G6E7a8_HHJvLlRzGw5I8x3wt2kSN2qIvwPoOZ9r7BYPDF5dqQpISVAh8sy-4wN0Xww_G4WxrTxSfuMosmVxmI4QaK1A-OxpW6yf1MzTKofpLPJFPEX5w3juVgIvhuL25YF3W0m3_ci1JswGGLwP3GOybg8HxGMEKSS_3awkeL0iV6hnVLq45yuwOjzwsA-XP-zVf8-zXhzVHnTKG-h6VKT0yIwY2b2PqiVauguiRZc9sYjMj6aw_ODRCDrVlwcZ8MP3ePLZRF3ZHQn0WjxIgt5K5o7WL6CrsRMPKyHHqZi_3SZifba1wQUPW4PL_XHhhaRplAHyP4H9gqYTjHvLxsVXUYMIjVU0Ch4fyuB_uJK445NBRlR1afWFHcZNH9yKTQd8nhV8LDpLUZgiLeNNoBrxy0bmx8IHikp_5W9pqmTKfNs07mCZQyA7KPt-O8M6JiaA2NiBl7P79_s4FZyj_pwO8OJCxNzpj-4JlBFoveZMnQ782mqZcaqGvMYbMSogUd-xbXQBAx3TTVC-4o3-EATMWadoYNkORmFcqjQijqOPHP3hxz55CwdA7GE2NBvz7Op6nmBC0-tnISjno2yguZqQv1tld36QtmTIRCHl7OLpjZQ_8AKy2LBOPMzURvvkpWtYZSc8UY29yJK13QrBLWMlavWwIfw_SwJJf2IdpUO3u7lnBQac6oZEgzjYNMcQPKSp3bYDMa9axe-jf5b5JL7TEV0OC0WZ2IxeZU5a9LMoh5u1-bNr2z2bXsWpyIxIJ6si_cSpkSdPHBY0nN4zSwjrST-mReb2a9NFycUnqwyQrVJnHgxW5K19qMvQhXEd-cf-Hp3CIa-WKIllLXKHnQ7YMoWub4lg6M=&p=0&fvj=0&vjs=3',\n",
       "  'name': '\\n\\nHP'},\n",
       " {'title': '\\nData Scientist Master - Remote',\n",
       "  'summarylinks': '/pagead/clk?mo=r&ad=-6NYlbfkN0D-3F7puPx_GEDFVYtpRHaH84oROoOoE5YoSiCdi3A7JXpU26dtCt9J7s7DegRnIpE1hkvZDGuGxFWEQShZlX8H3uayvDZI6LYcgy2ShiKm7zb-YwUSwp3SkE5-8DR87WDEPw39ZtD4d3fBp5YNWCvqFKM4JeShjrVuSiH_zUJcRc7kTIvYi8s4c02EP1XyUULIhtuF7gbN_iCXm-YO-dl5CkV7XcxrN4DqcLdGtiozlyaKynRt8Ew06hRMbUT1ansVnqA_czTNv_y6mrbDQXO98xdMzd6P2OcBhFKoCs8q0ymZSighEy5g6pMxNQbCwW0RTMzBt44DxG87YRMJ5mNUl6umgTxeVs6hlpGwZ6z1KqeZujQsLxTqihLNGDNe5PyuTFb762l3t2yVd9EaGd6b-6hCSVx7GYSM88unK64dSxKr_qyc_CLp&p=1&fvj=0&vjs=3',\n",
       "  'name': '\\n\\nSchneider'},\n",
       " {'title': '\\nLead Data Scientist',\n",
       "  'summarylinks': '/pagead/clk?mo=r&ad=-6NYlbfkN0DmvEs89GDjygIsDT0FtjWiil-qnA5TS0Npqc8I6T5HHPj1qJcB6ts2RC9U8mqwlH31VRyGgFTjuk6MDSQy9dlxHVsLO1FyLeaovTNDU0XCRmuZoptVyQ-71WeG21w73lkklPyJrRMYwYxr_-SpOcX4VcXq5o9hFdkEJ6YMkrQ-SF5M70xFiIyexTqgxAAV9J3vMSjhTcG8XDt4T-5_sOXfwks-Nz9y1nzWzs4b7rUKTiFWPgdltxHWhpz-hZKisc2meauZYuq_zDfGGIWAs718PmSmxQ_TDsfTkALLQvYo6WhBXdGqg-LpwiTOqK0mJQ8Ja72SiRHDC_LaTmlU14Ys0D_0cq2uuHZrGu99RG-YducjOAUjvI2RWrCmZDzg4sY1BGxBPey3MtlCXGvlq3CmsrbwjU3SdPsR5XD0e5o-YsmpB_Zw-f90Cp5mc4vcAIY=&p=2&fvj=1&vjs=3',\n",
       "  'name': '\\n\\nTRANZACT'},\n",
       " {'title': '\\nJunior Data Scientist',\n",
       "  'summarylinks': '/rc/clk?jk=956bc4242ccda148&fccid=e7c5b6dbeaeea9b1&vjs=3',\n",
       "  'name': '\\nORTEC'},\n",
       " {'title': '\\nData Scientist (Contract)',\n",
       "  'summarylinks': '/rc/clk?jk=ce1a335056e0b9c4&fccid=337a29eb4341b4b8&vjs=3',\n",
       "  'name': '\\n\\nArundo Analytics'},\n",
       " {'title': '\\nArchitecture Data Scientist',\n",
       "  'summarylinks': '/rc/clk?jk=9a31b48988b74672&fccid=1b866506aec22461&vjs=3',\n",
       "  'name': '\\n\\nHP'},\n",
       " {'title': '\\nData Scientist',\n",
       "  'summarylinks': '/rc/clk?jk=ff1dfe0cc309e136&fccid=2fe5bdb74ccda2ee&vjs=3',\n",
       "  'name': '\\n\\nCGG'},\n",
       " {'title': '\\nData Scientist- Preventive Cardiology',\n",
       "  'summarylinks': '/rc/clk?jk=c22d8fef8d54461f&fccid=1fc7fdf0baeeb13b&vjs=3',\n",
       "  'name': '\\n\\nHouston Methodist'},\n",
       " {'title': '\\nIT Data Scientist',\n",
       "  'summarylinks': '/rc/clk?jk=536a91f7e206415c&fccid=b5d99ef75fd63afb&vjs=3',\n",
       "  'name': '\\n\\nHuntsman'},\n",
       " {'title': '\\nStrategic Analytics – Data Scientist',\n",
       "  'summarylinks': '/rc/clk?jk=dc292d195e42d954&fccid=9e215d88a6b33622&vjs=3',\n",
       "  'name': '\\n\\nDeloitte'},\n",
       " {'title': '\\nData Scientist',\n",
       "  'summarylinks': '/rc/clk?jk=27570b060bde4e4b&fccid=25a7a525da090457&vjs=3',\n",
       "  'name': '\\n\\nPrecision Drilling Corporation'},\n",
       " {'title': '\\nData Scientist',\n",
       "  'summarylinks': '/company/ABS/jobs/Data-Scientist-4a27c2b9cbde8bda?fccid=dd118cb65f74c883&vjs=3',\n",
       "  'name': '\\n\\nABS'},\n",
       " {'title': '\\nData Scientist Sr',\n",
       "  'summarylinks': '/rc/clk?jk=e22894ad5c9feaec&fccid=584c799f6b319a76&vjs=3',\n",
       "  'name': '\\n\\nWaste Management'},\n",
       " {'title': '\\nData Scientist',\n",
       "  'summarylinks': '/pagead/clk?mo=r&ad=-6NYlbfkN0ADTliTSg4K3aDxe8vkHVVj5ml6bx8ND6Ab8oliGx3AtQak9O875La2bFZ7Jqdg5u3EDPCNp3t0IryOXgUBGTf7sVmh6sGXkHylmDALKtTmme-mVHsiLQQyPkr3FYWss14G3s699o5pWBhNveXAKiryHY2V9RKuQ2ziHr1oHZ-uuGPOFw6fTEvseIvfoAb1pRx7ax10hwlbDnDXx5yz1LDRQvuBUxIN0ncJOMvgmBoolGC7rRzxJzDng6eKlSIK2NafbjEFlkkCpK1Gch9NtfOEKpkss6L0bmGNguPAEjgjHFD3I1p6JX3Nnx6vjSy46tII11UETYtSlmOZ4xm5JWJ79w_-9HqrvOgyj_Qq6MmKDbKHbK8jywqtKgK5o6uG7VPSAGj8RyInkx94UBJLYc7X8I3eBoBFYKcETFmsuI5QlkM_EcyRdJ_m&p=13&fvj=0&vjs=3',\n",
       "  'name': '\\n\\nMatlen Silver'},\n",
       " {'title': '\\nSenior Data Scientist',\n",
       "  'summarylinks': '/pagead/clk?mo=r&ad=-6NYlbfkN0D-3F7puPx_GEDFVYtpRHaH84oROoOoE5YoSiCdi3A7JXpU26dtCt9J7s7DegRnIpHco9uidPDtOfbS6Um3Np1dH88tpTnzUqHOmCRblRJP3u96p-DmlIAqVfVOAfuKOJT6NhHDSD9PxNY0bkdP98RXrW3B-h2zApKy_JvqGrEMyvYzxoKxEMxIn3uuziQfVgLGn6k6hbT3tJryjECm8zWaf2JxPt2DpjwRWuwQE7oG-c8V0EGNXCU28kh8htucjEHL9IX-sCdpw8l1sXyYhWxAYDzetqPTv5xgJq-jA4-UCdFSgHR2m-ul42RnNbnEbUj6w2YWO6GjyacBwkBlf7jkFMNCUbmNiO4urZZ8lX5cxU-unCa3xXwrkpUU0kgfX5TJ42r2YzOCjF0J1ApC3V38AlJ12N7nOMiHnpypvxEpRwqw44Kd5Jhm&p=14&fvj=0&vjs=3',\n",
       "  'name': '\\n\\nSchneider'}]"
      ]
     },
     "metadata": {},
     "execution_count": 8
    }
   ],
   "source": [
    "info"
   ]
  },
  {
   "cell_type": "code",
   "execution_count": 9,
   "metadata": {},
   "outputs": [
    {
     "output_type": "execute_result",
     "data": {
      "text/plain": [
       "{'title': '\\nArchitecture Data Scientist',\n",
       " 'summarylinks': '/pagead/clk?mo=r&ad=-6NYlbfkN0C4JTuWysBZGWr3ScYyn1q3GP1Wt9Y6KOMkEf9pRAXJOWsVIs1722niEMWH1tX4ZZCGEzLVh4D_WHn1m2gjFAQ6gEvk6nQ2T4G6E7a8_HHJvLlRzGw5I8x3wt2kSN2qIvwPoOZ9r7BYPDF5dqQpISVAh8sy-4wN0Xww_G4WxrTxSfuMosmVxmI4QaK1A-OxpW6yf1MzTKofpLPJFPEX5w3juVgIvhuL25YF3W0m3_ci1JswGGLwP3GOybg8HxGMEKSS_3awkeL0iV6hnVLq45yuwOjzwsA-XP-zVf8-zXhzVHnTKG-h6VKT0yIwY2b2PqiVauguiRZc9sYjMj6aw_ODRCDrVlwcZ8MP3ePLZRF3ZHQn0WjxIgt5K5o7WL6CrsRMPKyHHqZi_3SZifba1wQUPW4PL_XHhhaRplAHyP4H9gqYTjHvLxsVXUYMIjVU0Ch4fyuB_uJK445NBRlR1afWFHcZNH9yKTQd8nhV8LDpLUZgiLeNNoBrxy0bmx8IHikp_5W9pqmTKfNs07mCZQyA7KPt-O8M6JiaA2NiBl7P79_s4FZyj_pwO8OJCxNzpj-4JlBFoveZMnQ782mqZcaqGvMYbMSogUd-xbXQBAx3TTVC-4o3-EATMWadoYNkORmFcqjQijqOPHP3hxz55CwdA7GE2NBvz7Op6nmBC0-tnISjno2yguZqQv1tld36QtmTIRCHl7OLpjZQ_8AKy2LBOPMzURvvkpWtYZSc8UY29yJK13QrBLWMlavWwIfw_SwJJf2IdpUO3u7lnBQac6oZEgzjYNMcQPKSp3bYDMa9axe-jf5b5JL7TEV0OC0WZ2IxeZU5a9LMoh5u1-bNr2z2bXsWpyIxIJ6si_cSpkSdPHBY0nN4zSwjrST-mReb2a9NFycUnqwyQrVJnHgxW5K19qMvQhXEd-cf-Hp3CIa-WKIllLXKHnQ7YMoWub4lg6M=&p=0&fvj=0&vjs=3',\n",
       " 'name': '\\n\\nHP'}"
      ]
     },
     "metadata": {},
     "execution_count": 9
    }
   ],
   "source": [
    "info[0]"
   ]
  },
  {
   "cell_type": "code",
   "execution_count": 13,
   "metadata": {},
   "outputs": [
    {
     "output_type": "execute_result",
     "data": {
      "text/plain": [
       "'\\nArchitecture Data Scientist'"
      ]
     },
     "metadata": {},
     "execution_count": 13
    }
   ],
   "source": [
    "info[0]['title']"
   ]
  },
  {
   "cell_type": "code",
   "execution_count": 22,
   "metadata": {},
   "outputs": [],
   "source": [
    "summaries = []\n",
    "summary_links = [info[0]['summarylinks']]\n",
    "base_url = 'https://www.indeed.com'\n",
    "try:\n",
    "    for tail in summary_links:\n",
    "        link = base_url + tail\n",
    "        page = requests.get(link)\n",
    "        soup = BeautifulSoup(page.text, 'html.parser')\n",
    "        div = soup.find_all('div', attrs={'id': 'jobDescriptionText'})\n",
    "        summaries.append([link, div[0].text])\n",
    "except IndexError:\n",
    "    logger.error('Here\\'s what div looks like\\n:', div)\n",
    "    logger.error('URL:', link)\n",
    "df = pd.DataFrame(summaries, columns = ['links', 'description'])"
   ]
  },
  {
   "cell_type": "code",
   "execution_count": 35,
   "metadata": {},
   "outputs": [
    {
     "output_type": "stream",
     "name": "stdout",
     "text": [
      "The autoreload extension is already loaded. To reload it, use:\n  %reload_ext autoreload\n"
     ]
    }
   ],
   "source": [
    "%load_ext autoreload\n",
    "%autoreload 2\n",
    "from proxyManager import ProxyManager\n",
    "proxy_list = ProxyManager(test_url='https://www.indeed.com/')"
   ]
  },
  {
   "cell_type": "code",
   "execution_count": 37,
   "metadata": {},
   "outputs": [
    {
     "output_type": "execute_result",
     "data": {
      "text/plain": [
       "300"
      ]
     },
     "metadata": {},
     "execution_count": 37
    }
   ],
   "source": [
    "len(proxy_list.proxies)"
   ]
  },
  {
   "cell_type": "code",
   "execution_count": 32,
   "metadata": {},
   "outputs": [
    {
     "output_type": "execute_result",
     "data": {
      "text/plain": [
       "'\\nData Scientist (Contract)'"
      ]
     },
     "metadata": {},
     "execution_count": 32
    }
   ],
   "source": [
    "temp_info['title']"
   ]
  },
  {
   "cell_type": "code",
   "execution_count": 47,
   "metadata": {},
   "outputs": [],
   "source": [
    "from pdfminer.high_level import extract_text\n",
    "\n",
    "text = extract_text(\"MyResume.pdf\")"
   ]
  },
  {
   "cell_type": "code",
   "execution_count": 49,
   "metadata": {},
   "outputs": [
    {
     "output_type": "execute_result",
     "data": {
      "text/plain": [
       "'309-307-3992 | txnguyen2921@gmail.com | linkedin.com/in/tnguyen2921 | github.com/tung2921\\n\\nTung Nguyen\\n\\n6216 66th St, Lubbock, TX 79424\\n\\nLubbock, TX\\nAug. 2018 – July 2020\\n\\nBloomington, IL\\nAug. 2013 – Dec 2017\\n\\nJuly 2020 – October 2020\\nBrooklyn, NY\\n\\nSep. 2019 – May 2020\\nLubbock, TX\\n\\nEducation\\n\\nTexas Tech University\\nMaster of Science in Statistics, GPA:3.6\\n\\nIllinois Wesleyan University\\nBachelor of Arts in Mathematics, GPA:3.7\\n\\nWorking Experience\\n\\nEtsy - Data Science Intern\\nEtsy inc.\\n\\ntechnologies, i.e git\\n\\nGraduate Part-time Instructor\\nTexas Tech University\\n\\ninferences\\n\\nResearch Experience\\n\\n• Introduce matching item engine using state-of-the-art object detection and unsupervised machine learning\\n\\ntechniques to improve Etsy’s recommendation system\\n\\n• Utilize Dash to create an interactive matching engine web application\\n• Maintain reproducible and well-documented codes for reliable experiments within teams using version control\\n\\n• Educated students on the application of statistics in business and scientific studies\\n• Aided students in conducting hypothesis testing, building machine learning models for data analysis and causal\\n\\n• Effective use of word and power point for clear presentation of statistical concepts to students\\n\\nSenior Thesis - Independence of Multi-Categorical Random Variables | R, HPCC\\n\\nJune 2018 – July 2020\\n\\n• Proposed a modified Pearson statistic for independence test of MCRVs on health survey data\\n• Designed statistical simulation models for reliable testing experiments on HPCC\\n• Leveraged parallel programming, reducing computing time from 10 hours to a few minutes on Linux based HPCC\\n\\nProjects\\n\\nIndeed Job Posts Analysis | Python, BeautifulSoup, NLTK, NLP (cid:135)\\n\\nJune 2020 – Present\\n\\n• Developed a web scraper for 2000 unique job posts from Indeed with BeautifulSoup\\n• Analyzed and visualized job post descriptions, showcasing job distributions in the U.S during the pandemic\\n• Performed topic modeling and summarization across tech job titles for convenient resume parsing\\n\\nMachine Learning projects | Python, Tensorflow, Opencv, RStudio, RShiny, Dash (cid:135)\\n\\nMay 2018 – Present\\n• Implemented state-of-the-art Deep Learning architecture on standard datasets, achieving comparable results to the\\n\\n• Trained and fine-tuned popular linear and non-linear machine learning models on TidyTuesday dataset, boosting\\n\\naccuracy by 30% compared to base models)\\n\\n• Interactive visualization of results using mainstream frameworks, i.e: RShiny, Dash, ..\\n\\noriginal paper\\n\\nTechnical Skills\\n\\nLanguages: Python, R, Matlab, SQL (Postgres), HTML/CSS\\nFrameworks: Tensorflow/Pytorch, Dash, RShiny\\nDeveloper Tools: Git, Docker, Linux, Google Cloud Platform, VS Code, PyCharm, RStudio\\nLibraries: Pandas, NumPy, Matplotlib, Nltk, Scikit-learn, Scipy\\n\\nAwards and Honors\\n\\nHUA YU Memorial Scholar\\n\\n\\x0c'"
      ]
     },
     "metadata": {},
     "execution_count": 49
    }
   ],
   "source": [
    "text"
   ]
  },
  {
   "cell_type": "code",
   "execution_count": 45,
   "metadata": {},
   "outputs": [
    {
     "output_type": "execute_result",
     "data": {
      "text/plain": [
       "{'/Filter': '/FlateDecode'}"
      ]
     },
     "metadata": {},
     "execution_count": 45
    }
   ],
   "source": [
    "pageObject.getContents()"
   ]
  },
  {
   "cell_type": "code",
   "execution_count": null,
   "metadata": {},
   "outputs": [],
   "source": []
  }
 ]
}