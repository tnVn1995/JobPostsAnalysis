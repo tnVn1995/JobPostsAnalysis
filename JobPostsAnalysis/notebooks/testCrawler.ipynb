{
 "metadata": {
  "language_info": {
   "codemirror_mode": {
    "name": "ipython",
    "version": 3
   },
   "file_extension": ".py",
   "mimetype": "text/x-python",
   "name": "python",
   "nbconvert_exporter": "python",
   "pygments_lexer": "ipython3",
   "version": "3.8.5-final"
  },
  "orig_nbformat": 2,
  "kernelspec": {
   "name": "python3",
   "display_name": "Python 3.8.5 64-bit",
   "metadata": {
    "interpreter": {
     "hash": "19015db015994ac3cd264c3cb16b5f5c5dacb6497ef1aa5f3a40c698ba0dc7a2"
    }
   }
  }
 },
 "nbformat": 4,
 "nbformat_minor": 2,
 "cells": [
  {
   "cell_type": "code",
   "execution_count": 1,
   "metadata": {},
   "outputs": [],
   "source": [
    "%load_ext autoreload\n",
    "%autoreload 2\n",
    "from config import CONFIG, Query, JobDesc, JobInfo\n",
    "import sys\n",
    "sys.path.append(str(CONFIG.src_path / 'data' / 'sequential'))\n",
    "from Crawler import Crawler\n",
    "from proxyManager import ProxyManager\n",
    "\n"
   ]
  },
  {
   "cell_type": "code",
   "execution_count": 2,
   "metadata": {},
   "outputs": [],
   "source": [
    "URL = 'http://www.indeed.com/jobs?'\n",
    "queries = {'q':'data analyst', 'l': 'Houston, TX', \"start\": 75}\n",
    "proxy_scraper = ProxyManager()\n",
    "proxy_scraper.refresh_proxy_status()\n",
    "crawler = Crawler()\n",
    "div = crawler.getJobPost(queries=queries, proxy_scraper=proxy_scraper)"
   ]
  },
  {
   "cell_type": "code",
   "execution_count": 3,
   "metadata": {},
   "outputs": [
    {
     "output_type": "execute_result",
     "data": {
      "text/plain": [
       "and…</li>\n",
       " </ul></div>\n",
       " <div class=\"jobsearch-SerpJobCard-footer\">\n",
       " <div class=\"jobsearch-SerpJobCard-footerActions\">\n",
       " <div class=\"result-link-bar-container\">\n",
       " <div class=\"result-link-bar\"><span class=\"date\">6 days ago</span><div class=\"tt_set\" id=\"tt_set_10\"><div class=\"job-reaction\"><button aria-expanded=\"false\" aria-haspopup=\"true\" aria-label=\"save or dislike\" class=\"job-reaction-kebab\" data-ol-has-click-handler=\"\" onclick=\"toggleKebabMenu('cf724168306d760d', false, event); return false;\" tabindex=\"0\"></button><span class=\"job-reaction-kebab-menu\"><button class=\"job-reaction-kebab-item job-reaction-save\" data-ol-has-click-handler=\"\" onclick=\"changeJobState('cf724168306d760d', 'save', 'linkbar', false, '');return false;\"><svg focusable=\"false\" height=\"16\" viewbox=\"0 0 24 24\" width=\"16\"><g><path d=\"M16.5,3A6,6,0,0,0,12,5.09,6,6,0,0,0,7.5,3,5.45,5.45,0,0,0,2,8.5C2,12.28,5.4,15.36,10.55,20L12,21.35,13.45,20C18.6,15.36,22,12.28,22,8.5A5.45,5.45,0,0,0,16.5,3ZM12.1,18.55l-0.1.1-0.1-.1C7.14,14.24,4,11.39,4,8.5A3.42,3.42,0,0,1,7.5,5a3.91,3.91,0,0,1,3.57,2.36h1.87A3.88,3.88,0,0,1,16.5,5,3.42,3.42,0,0,1,20,8.5C20,11.39,16.86,14.24,12.1,18.55Z\" fill=\"#2d2d2d\"></path></g></svg><span class=\"job-reaction-kebab-item-text\">Save job</span></button><button class=\"job-reaction-kebab-item job-reaction-dislike\" data-ol-has-click-handler=\"\" onclick=\"dislikeJob(false, false, 'cf724168306d760d', 'unsave', 'linkbar', false, '');\"><span class=\"job-reaction-dislike-icon\"></span><span class=\"job-reaction-kebab-item-text\">Not interested</span></button><button class=\"job-reaction-kebab-item job-reaction-report\" onclick=\"reportJob('cf724168306d760d');\"><span class=\"job-reaction-report-icon\"></span><span class=\"job-reaction-kebab-item-text\">Report Job</span></button></span></div><span class=\"result-link-bar-separator\">·</span><a class=\"sl resultLink save-job-link\" href=\"#\" id=\"sj_cf724168306d760d\" onclick=\"changeJobState('cf724168306d760d', 'save', 'linkbar', false, ''); return false;\" title=\"Save this job to my.indeed\">Save job</a><span class=\"result-link-bar-separator\">·</span><button aria-expanded=\"false\" class=\"sl resultLink more-link\" id=\"tog_10\" onclick=\"toggleMoreLinks('cf724168306d760d', '10'); return false;\">More...</button></div><script>if (!window['result_cf724168306d760d']) {window['result_cf724168306d760d'] = {};}window['result_cf724168306d760d']['showSource'] = false; window['result_cf724168306d760d']['source'] = \"Army Houston Recruiting Battalion\"; window['result_cf724168306d760d']['loggedIn'] = false; window['result_cf724168306d760d']['showMyJobsLinks'] = false;window['result_cf724168306d760d']['undoAction'] = \"unsave\";window['result_cf724168306d760d']['relativeJobAge'] = \"6 days ago\";window['result_cf724168306d760d']['jobKey'] = \"cf724168306d760d\"; window['result_cf724168306d760d']['myIndeedAvailable'] = true; window['result_cf724168306d760d']['showMoreActionsLink'] = window['result_cf724168306d760d']['showMoreActionsLink'] || true; window['result_cf724168306d760d']['resultNumber'] = 10; window['result_cf724168306d760d']['jobStateChangedToSaved'] = false; window['result_cf724168306d760d']['searchState'] = \"q=data analyst&amp;l=Houston%2C+TX&amp;start=75\"; window['result_cf724168306d760d']['basicPermaLink'] = \"https://www.indeed.com\"; window['result_cf724168306d760d']['saveJobFailed'] = false; window['result_cf724168306d760d']['removeJobFailed'] = false; window['result_cf724168306d760d']['requestPending'] = false; window['result_cf724168306d760d']['currentPage'] = \"serp\"; window['result_cf724168306d760d']['sponsored'] = false;window['result_cf724168306d760d']['reportJobButtonEnabled'] = false; window['result_cf724168306d760d']['showMyJobsHired'] = false; window['result_cf724168306d760d']['showSaveForSponsored'] = false; window['result_cf724168306d760d']['showJobAge'] = true; window['result_cf724168306d760d']['showHolisticCard'] = true; window['result_cf724168306d760d']['showDislike'] = true; window['result_cf724168306d760d']['showKebab'] = true; window['result_cf724168306d760d']['showReport'] = true;</script></div></div>\n",
       " </div>\n",
       " </div>\n",
       " <div class=\"tab-container\">\n",
       " <div class=\"more-links-container result-tab\" id=\"tt_display_9\" style=\"display:none;\"><div class=\"more_actions\" id=\"more_9\"><ul><li><span class=\"mat\">View all <a href=\"/q-Army-Houston-Recruiting-Battalion-l-Houston,-TX-jobs.html\">Army Houston Recruiting Battalion jobs in Houston, TX</a> - <a href=\"/l-Houston,-TX-jobs.html\">Houston jobs</a></span></li><li><span class=\"mat\">Salary Search: <a href=\"/salaries/data-collector-Salaries,-Houston-TX\" onmousedown=\"this.href = appendParamsOnce(this.href, '?campaignid=serp-more&amp;fromjk=cf724168306d760d&amp;from=serp-more');\">Data Collector salaries in Houston, TX</a></span></li></ul></div><a class=\"close-link closeLink\" href=\"#\" onclick=\"toggleMoreLinks('cf724168306d760d'); return false;\" title=\"Close\"></a></div><div class=\"dya-container result-tab\"></div>\n",
       " <div class=\"tellafriend-container result-tab email_job_content\"></div>\n",
       " <div class=\"sign-in-container result-tab\"></div>\n",
       " </div>\n",
       " </div>,\n",
       " <div class=\"jobsearch-SerpJobCard unifiedRow row result\" data-ci=\"360303103\" data-empn=\"7121865940858087\" data-jk=\"3a260a2872349bb7\" id=\"pj_3a260a2872349bb7\">\n",
       " <style>\n",
       " .jobcard_logo{margin:6px 0}.jobcard_logo img{width:auto;max-width:80px;max-height:30px}.jasxrefreshcombotst .jobcard_logo img{max-height:2rem;max-width:100%}\n",
       " </style>\n",
       " <h2 class=\"title\">\n",
       " <a class=\"jobtitle turnstileLink\" data-tn-element=\"jobTitle\" href=\"/pagead/clk?mo=r&amp;ad=-6NYlbfkN0DmGha0wm0dwsBw4WVbwIK4xllE5mPwNoGKpslZWfraNzEIuhL7HAiEYHJL37VpLFV2LSXmFUEBmW0QR5f3yuTwA1qj2L3YNWOKBrYeg4dWT0ubfX_Vpyk_19XSyr0Q-HaTM9PCxenlyqC_as30dpkT95URt0Fd7OFCl2L39GuVSIhfLXS3I4pZL3cQamBOnp8tRmMqPKJ-BuK0O3EhR8Z5PCdvBU5ojwZhMWK4x4W6ENSaU6h2vBV3aLY4Y9KXXLmk69ZiQVnEskhtkbc0m2weJb08jfhfSRuifpScGDvOZPxLWtucvakTyGoMPckuhWIdQwYfqwYSiEwQ4B9X0e7-_IglMKMNJ7RlhOJ1ly0kCQAa8EVhcZM6FWPSCAAeERHwIrFKVcUGoF_hXt55ZSwfjsPbpdviMDnQwOiGvDP0fcnVWD0eH39MaozB8U0igFfR7jzBkVF_6G-TOLzE0rCIA6AudfGv5sI=&amp;p=11&amp;fvj=1&amp;vjs=3\" id=\"sja11\" onclick=\"setRefineByCookie([]); sjoc('sja11', 1); convCtr('SJ'); rclk(this,jobmap[11],true,1);\" onmousedown=\"sjomd('sja11'); clk('sja11'); rclk(this,jobmap[11],1);\" rel=\"noopener nofollow\" target=\"_blank\" title=\"Looker Data Analyst (Fully Remote)\">\n",
       " Looker <b>Data</b> <b>Analyst</b> (Fully Remote)</a>\n",
       " </h2>\n",
       " <div class=\"sjcl\">\n",
       " <div>\n",
       " <span class=\"company\">\n",
       " <b>Data</b> Driven</span>\n",
       " </div>\n",
       " <div class=\"recJobLoc\" data-rc-loc=\"United States\" id=\"recJobLoc_3a260a2872349bb7\" style=\"display: none\"></div>\n",
       " <div class=\"location accessible-contrast-color-location\">United States</div>\n",
       " </div>\n",
       " <div class=\"salarySnippet holisticSalary\">\n",
       " <span class=\"salary no-wrap\">\n",
       " <span class=\"salaryText\">\n",
       " $55,000 - $70,000 a year</span>\n",
       " </span>\n",
       " </div>\n",
       " <table class=\"jobCardShelfContainer\" role=\"presentation\"><tr class=\"jobCardShelf\"><td class=\"jobCardShelfItem indeedApply\"><span class=\"jobCardShelfIcon\"><svg fill=\"none\" height=\"16\" viewbox=\"0 0 20 20\" width=\"16\"><rect fill=\"#FF5A1F\" height=\"20\" rx=\"10\" width=\"20\"></rect><path clip-rule=\"evenodd\" d=\"M15.3125 4.0625L10.8125 15.3125L7.99999 11.375L15.3125 4.0625ZM7.604 12.7576L6.875 15.3125L8.567 14.1054L7.604 12.7576ZM7.20463 10.5796L12.419 5.36525L4.0625 9.125L6.9875 10.7968L7.20463 10.5796Z\" fill=\"white\" fill-rule=\"evenodd\"></path></svg></span><span class=\"iaLabel iaIconActive\">Easily apply</span></td></tr></table><div class=\"summary\">\n",
       " <ul style=\"list-style-type:circle;margin-top: 0px;margin-bottom: 0px;padding-left:20px;\">\n",
       " <li>Typical projects may include: <b>data</b> stack modernization, <b>data</b> modeling, developing visualizations, <b>data</b> migrations, client enablements, and performance…</li>\n",
       " </ul></div>\n",
       " <div class=\"jobsearch-SerpJobCard-footer\">\n",
       " <div class=\"jobsearch-SerpJobCard-footerActions\">\n",
       " <div class=\"result-link-bar-container\">\n",
       " <div class=\"result-link-bar\"><span class=\"date\">30+ days ago</span><div class=\"tt_set\" id=\"tt_set_11\"><div class=\"job-reaction\"><button aria-expanded=\"false\" aria-haspopup=\"true\" aria-label=\"save or dislike\" class=\"job-reaction-kebab\" data-ol-has-click-handler=\"\" onclick=\"toggleKebabMenu('3a260a2872349bb7', true, event); return false;\" tabindex=\"0\"></button><span class=\"job-reaction-kebab-menu\"><button class=\"job-reaction-kebab-item job-reaction-save\" data-ol-has-click-handler=\"\" onclick=\"changeJobState('3a260a2872349bb7', 'save', 'linkbar', true, '');return false;\"><svg focusable=\"false\" height=\"16\" viewbox=\"0 0 24 24\" width=\"16\"><g><path d=\"M16.5,3A6,6,0,0,0,12,5.09,6,6,0,0,0,7.5,3,5.45,5.45,0,0,0,2,8.5C2,12.28,5.4,15.36,10.55,20L12,21.35,13.45,20C18.6,15.36,22,12.28,22,8.5A5.45,5.45,0,0,0,16.5,3ZM12.1,18.55l-0.1.1-0.1-.1C7.14,14.24,4,11.39,4,8.5A3.42,3.42,0,0,1,7.5,5a3.91,3.91,0,0,1,3.57,2.36h1.87A3.88,3.88,0,0,1,16.5,5,3.42,3.42,0,0,1,20,8.5C20,11.39,16.86,14.24,12.1,18.55Z\" fill=\"#2d2d2d\"></path></g></svg><span class=\"job-reaction-kebab-item-text\">Save job</span></button><button class=\"job-reaction-kebab-item job-reaction-dislike\" data-ol-has-click-handler=\"\" onclick=\"dislikeJob(false, false, '3a260a2872349bb7', 'unsave', 'linkbar', true, '');\"><span class=\"job-reaction-dislike-icon\"></span><span class=\"job-reaction-kebab-item-text\">Not interested</span></button><button class=\"job-reaction-kebab-item job-reaction-report\" onclick=\"reportJob('3a260a2872349bb7');\"><span class=\"job-reaction-report-icon\"></span><span class=\"job-reaction-kebab-item-text\">Report Job</span></button></span></div><span class=\"result-link-bar-separator\">·</span><a class=\"sl resultLink save-job-link\" href=\"#\" id=\"sj_3a260a2872349bb7\" onclick=\"changeJobState('3a260a2872349bb7', 'save', 'linkbar', true, ''); return false;\" title=\"Save this job to my.indeed\">Save job</a></div><script>if (!window['sj_result_3a260a2872349bb7']) {window['sj_result_3a260a2872349bb7'] = {};}window['sj_result_3a260a2872349bb7']['showSource'] = false; window['sj_result_3a260a2872349bb7']['source'] = \"Indeed\"; window['sj_result_3a260a2872349bb7']['loggedIn'] = false; window['sj_result_3a260a2872349bb7']['showMyJobsLinks'] = false;window['sj_result_3a260a2872349bb7']['undoAction'] = \"unsave\";window['sj_result_3a260a2872349bb7']['relativeJobAge'] = \"30+ days ago\";window['sj_result_3a260a2872349bb7']['jobKey'] = \"3a260a2872349bb7\"; window['sj_result_3a260a2872349bb7']['myIndeedAvailable'] = true; window['sj_result_3a260a2872349bb7']['showMoreActionsLink'] = window['sj_result_3a260a2872349bb7']['showMoreActionsLink'] || false; window['sj_result_3a260a2872349bb7']['resultNumber'] = 11; window['sj_result_3a260a2872349bb7']['jobStateChangedToSaved'] = false; window['sj_result_3a260a2872349bb7']['searchState'] = \"q=data analyst&amp;l=Houston%2C+TX&amp;start=75\"; window['sj_result_3a260a2872349bb7']['basicPermaLink'] = \"https://www.indeed.com\"; window['sj_result_3a260a2872349bb7']['saveJobFailed'] = false; window['sj_result_3a260a2872349bb7']['removeJobFailed'] = false; window['sj_result_3a260a2872349bb7']['requestPending'] = false; window['sj_result_3a260a2872349bb7']['currentPage'] = \"serp\"; window['sj_result_3a260a2872349bb7']['sponsored'] = true;window['sj_result_3a260a2872349bb7']['reportJobButtonEnabled'] = false; window['sj_result_3a260a2872349bb7']['showMyJobsHired'] = false; window['sj_result_3a260a2872349bb7']['showSaveForSponsored'] = true; window['sj_result_3a260a2872349bb7']['showJobAge'] = true; window['sj_result_3a260a2872349bb7']['showHolisticCard'] = true; window['sj_result_3a260a2872349bb7']['showDislike'] = true; window['sj_result_3a260a2872349bb7']['showKebab'] = true; window['sj_result_3a260a2872349bb7']['showReport'] = true;</script></div></div>\n",
       " </div>\n",
       " </div>\n",
       " <div class=\"tab-container\">\n",
       " <div class=\"sign-in-container result-tab\"></div>\n",
       " <div class=\"tellafriend-container result-tab email_job_content\"></div>\n",
       " </div>\n",
       " </div>,\n",
       " <div class=\"jobsearch-SerpJobCard unifiedRow row result\" data-ci=\"357945271\" data-empn=\"7952049979555078\" data-jk=\"aa45107b0201e4ee\" data-tu=\"https://click.appcast.io/jview-te8/a31.png?ent=8&amp;e=10276&amp;jid=10276_100100619&amp;org=false&amp;src=192&amp;bid=zCD0ruEca7I50FzR_CMSJw==&amp;jg=2vjn&amp;indeed=sp\" id=\"pj_aa45107b0201e4ee\">\n",
       " <style>\n",
       " .jobcard_logo{margin:6px 0}.jobcard_logo img{width:auto;max-width:80px;max-height:30px}.jasxrefreshcombotst .jobcard_logo img{max-height:2rem;max-width:100%}\n",
       " </style>\n",
       " <h2 class=\"title\">\n",
       " <a class=\"jobtitle turnstileLink\" data-tn-element=\"jobTitle\" href=\"/pagead/clk?mo=r&amp;ad=-6NYlbfkN0CjJJ4B0ONJpcyb2oQBKgRf-vW_yLOY4h6T6icEVh9gIaaHFPK0lKehwSc8Kq-Exc0FQAjTRCWLoNwv6Z_RFUi6JZlzYh-tRUQPJKg2kYndTzvFFSRwk15JQv3rUKqrgxfm-i2et3WFQeR1hRjXb2D8hFrNobx_suUpgHX8p6Ge5AuekgYv2rSRp_E8tfEJIDGSfr6JJ7xtWUCdqxrYtXOrxsT1P6ehXRUBad3vgy8mMJTgz1sbFRqP_nfigcWa5fD9LRz-FkGDsg2aYk0muexGqRywNYNIkbQxW5pGnSYel1o7wbOSKO6qvisUjXhCKXnNjzKyQ3NWOpkzdj9Z7IjED01GIdOpyRfGSZGOhpVkQ0KdGXViAUPwuP4o4mq98OAKYJrWRqE-tGPMdhSD1gNUVMfMl2-S6tiKBYwYgpWkhI0G9lhqW3tiMGHC6WDIHEjNQoK3UJwXQmsOWWXkwiNZF9El2uQ25kIHKvJhbRHAepJxpTW9Smns&amp;p=12&amp;fvj=0&amp;vjs=3\" id=\"sja12\" onclick=\"setRefineByCookie([]); sjoc('sja12', 0); convCtr('SJ'); rclk(this,jobmap[12],true,0);\" onmousedown=\"sjomd('sja12'); clk('sja12'); rclk(this,jobmap[12],0);\" rel=\"noopener nofollow\" target=\"_blank\" title=\"Stroke Program Clinical Data Mgmnt Analyst - Registered Nurse\">\n",
       " Stroke Program Clinical <b>Data</b> Mgmnt <b>Analyst</b> - Registered Nurs...</a>\n",
       " </h2>\n",
       " <div class=\"sjcl\">\n",
       " <div>\n",
       " <span class=\"company\">\n",
       " <a class=\"turnstileLink\" data-tn-element=\"companyName\" href=\"/cmp/Memorial-Hermann-Health-System\" onmousedown=\"this.href = appendParamsOnce(this.href, 'from=SERP&amp;campaignid=serp-linkcompanyname&amp;fromjk=aa45107b0201e4ee&amp;jcid=0964e07fbb561643')\" rel=\"noopener\" target=\"_blank\">\n",
       " Memorial Hermann Health System</a></span>\n",
       " <span class=\"ratingsDisplay\">\n",
       " <a aria-label=\"Company rating 4.0 out of 5 stars\" class=\"ratingNumber\" data-tn-variant=\"cmplinktst2\" href=\"/cmp/Memorial-Hermann-Health-System/reviews\" onmousedown=\"this.href = appendParamsOnce(this.href, '?campaignid=cmplinktst2&amp;from=SERP&amp;jt=Stroke+Program+Clinical+Data+Mgmnt+Analyst+-+Registered+Nurse&amp;fromjk=aa45107b0201e4ee&amp;jcid=0964e07fbb561643');\" rel=\"noopener\" target=\"_blank\" title=\"Memorial Hermann Health System reviews\"></a>\n",
       " <span class=\"ratingsContent\">\n",
       " 4.0<svg class=\"starIcon\" height=\"12px\" role=\"img\" width=\"12px\">\n",
       " <g>\n",
       " <path d=\"M 12.00,4.34 C 12.00,4.34 7.69,3.97 7.69,3.97 7.69,3.97 6.00,0.00 6.00,0.00 6.00,0.00 4.31,3.98 4.31,3.98 4.31,3.98 0.00,4.34 0.00,4.34 0.00,4.34 3.28,7.18 3.28,7.18 3.28,7.18 2.29,11.40 2.29,11.40 2.29,11.40 6.00,9.16 6.00,9.16 6.00,9.16 9.71,11.40 9.71,11.40 9.71,11.40 8.73,7.18 8.73,7.18 8.73,7.18 12.00,4.34 12.00,4.34 Z\" style=\"fill: #FFB103\"></path>\n",
       " </g>\n",
       " </svg>\n",
       " </span>\n",
       " </span></div></div></div>,\n",
       " <div class=\"jobsearch-SerpJobCard unifiedRow row result\" data-ci=\"100211378\" data-empn=\"5748677195806788\" data-jk=\"f19b0061f38ba0f0\" id=\"pj_f19b0061f38ba0f0\">\n",
       " <style>\n",
       " .jobcard_logo{margin:6px 0}.jobcard_logo img{width:auto;max-width:80px;max-height:30px}.jasxrefreshcombotst .jobcard_logo img{max-height:2rem;max-width:100%}\n",
       " </style>\n",
       " <h2 class=\"title\">\n",
       " <a class=\"jobtitle turnstileLink\" data-tn-element=\"jobTitle\" href=\"/pagead/clk?mo=r&amp;ad=-6NYlbfkN0BKkHZu3wF05EeDimN_p6sYpKCMArvwa95YdH7UpkaBCoSUOkIYlUzfiGSLmYc7jy4UblOBHT8CQ4wvAUutgei1EaL9SN-rjyAFEMbmgQJf2FpoDNtdMgDXCyxPXgvzfdKebhc92JYmyTgPjV1HtTEl01bxQBArTLmRdBoxbHQ6j6RM-cANRJN86UEaLe750MQYwvxZiQbeZQMPtCxAHK5mUXfbApgbEe_6tiMGKxK8GfyEnu07qnSI_kpM6HnI2M5ag7Sh6POiGJscn1g9fPxIUqHtoPKRv1CvKiWpQsSQ75dYilfqJ6MSjFH5eroD92czTkh7P03RVOcfHZDuuMVQrBxjDZao-Jrv_4o4bSjILh5kkiBG8gXgwMI4Zsk8fMk6KzpBNcHA01CjmPCG-UGK6MqgM7c-rq5qqHSF0J5KwbixnkSDYzg2CW1I2aEsRK0NABnsQ6Hn5A==&amp;p=13&amp;fvj=1&amp;vjs=3\" id=\"sja13\" onclick=\"setRefineByCookie([]); sjoc('sja13', 1); convCtr('SJ'); rclk(this,jobmap[13],true,1);\" onmousedown=\"sjomd('sja13'); clk('sja13'); rclk(this,jobmap[13],1);\" rel=\"noopener nofollow\" target=\"_blank\" title=\"Data Analyst\">\n",
       " <b>Data</b> <b>Analyst</b></a>\n",
       " </h2>\n",
       " <div class=\"sjcl\">\n",
       " <div>\n",
       " <span class=\"company\">\n",
       " <a class=\"turnstileLink\" data-tn-element=\"companyName\" href=\"/cmp/Insight-Global\" onmousedown=\"this.href = appendParamsOnce(this.href, 'from=SERP&amp;campaignid=serp-linkcompanyname&amp;fromjk=f19b0061f38ba0f0&amp;jcid=198e7b36e7f0396e')\" rel=\"noopener\" target=\"_blank\">\n",
       " Insight Global</a></span>\n",
       " <span class=\"ratingsDisplay\">\n",
       " <a aria-label=\"Company rating 4.0 out of 5 stars\" class=\"ratingNumber\" data-tn-variant=\"cmplinktst2\" href=\"/cmp/Insight-Global/reviews\" onmousedown=\"this.href = appendParamsOnce(this.href, '?campaignid=cmplinktst2&amp;from=SERP&amp;jt=Data+Analyst&amp;fromjk=f19b0061f38ba0f0&amp;jcid=198e7b36e7f0396e');\" rel=\"noopener\" target=\"_blank\" title=\"Insight Global reviews\"></a>\n",
       " <span class=\"ratingsContent\">\n",
       " 4.0<svg class=\"starIcon\" height=\"12px\" role=\"img\" width=\"12px\">\n",
       " <g>\n",
       " <path d=\"M 12.00,4.34 C 12.00,4.34 7.69,3.97 7.69,3.97 7.69,3.97 6.00,0.00 6.00,0.00 6.00,0.00 4.31,3.98 4.31,3.98 4.31,3.98 0.00,4.34 0.00,4.34 0.00,4.34 3.28,7.18 3.28,7.18 3.28,7.18 2.29,11.40 2.29,11.40 2.29,11.40 6.00,9.16 6.00,9.16 6.00,9.16 9.71,11.40 9.71,11.40 9.71,11.40 8.73,7.18 8.73,7.18 8.73,7.18 12.00,4.34 12.00,4.34 Z\" style=\"fill: #FFB103\"></path>\n",
       " </g>\n",
       " </svg>\n",
       " </span>\n",
       " </span></div></div></div>,\n",
       " <div class=\"jobsearch-SerpJobCard unifiedRow row result\" data-ci=\"361333595\" data-empn=\"6781987899506890\" data-jk=\"017fb16e9e5a97bc\" id=\"pj_017fb16e9e5a97bc\">\n",
       " <style>\n",
       " .jobcard_logo{margin:6px 0}.jobcard_logo img{width:auto;max-width:80px;max-height:30px}.jasxrefreshcombotst .jobcard_logo img{max-height:2rem;max-width:100%}\n",
       " </style>\n",
       " <h2 class=\"title\">\n",
       " <a class=\"jobtitle turnstileLink\" data-tn-element=\"jobTitle\" href=\"/pagead/clk?mo=r&amp;ad=-6NYlbfkN0AMJfw4VjLf1rdZht37wUrFWV2-FKF1VD9X5dAx1tax3nx05dwmER0DjtO2uVf4i4CNCdkUDvnd_aRDTd78D-2D7gvwjw-E8rypoUy6br8TL1cKLrs0v_ynEEA60d1JQ_xF10UK4zsPkYWKfCyxwlRn5slT2cfkM8iTjr2XEHi50tqL1bubJ0sWlF2CfpskGtrWTXbgBrmsJhInIGWNYAjVaD4Z5k_77_SuXn_DT5goBSip_UAjBU8HGuNWKoi5uxzcE_4QC72g5FJK8LjGL2cBsDckATVtoRSEqEumdky4PNu2aYiRtHTFrZb_t65Lhz2W5Kf23eMe1Z0PUpD9og_4wXQMxlcOK_rPbfo9k7mOpK_bbE9PzjYk0EJlUZAeVISkEM8ITwFLLzOt8oMZomLoJHRrZrXLZiCZGbrsd8AnwzMS8Z8-IndRgCKP0BaNWyMWGKcgUdhMo190DYDCY1V-2DX6eYBmRfJPjBsEwk6-zVI8SQIf9F8685dVvMKHNdkYAq9KwC2ssqWg1YdYmW3ockeg4DpzLdgg0Xle9Azn1Q==&amp;p=14&amp;fvj=0&amp;vjs=3\" id=\"sja14\" onclick=\"setRefineByCookie([]); sjoc('sja14', 1); convCtr('SJ'); rclk(this,jobmap[14],true,1);\" onmousedown=\"sjomd('sja14'); clk('sja14'); rclk(this,jobmap[14],1);\" rel=\"noopener nofollow\" target=\"_blank\" title=\"Workforce Management Analyst- Work from Home\">\n",
       " Workforce Management <b>Analyst</b>- Work from Home</a>\n",
       " </h2>\n",
       " <div class=\"sjcl\">\n",
       " <div>\n",
       " <span class=\"company\">\n",
       " <a class=\"turnstileLink\" data-tn-element=\"companyName\" href=\"/cmp/Triton-Technologies,-Inc.\" onmousedown=\"this.href = appendParamsOnce(this.href, 'from=SERP&amp;campaignid=serp-linkcompanyname&amp;fromjk=017fb16e9e5a97bc&amp;jcid=d9b614c7f35dbbcf')\" rel=\"noopener\" target=\"_blank\">\n",
       " Triton Technologies</a></span>\n",
       " <span class=\"ratingsDisplay\">\n",
       " <a aria-label=\"Company rating 3.0 out of 5 stars\" class=\"ratingNumber\" data-tn-variant=\"cmplinktst2\" href=\"/cmp/Triton-Technologies,-Inc./reviews\" onmousedown=\"this.href = appendParamsOnce(this.href, '?campaignid=cmplinktst2&amp;from=SERP&amp;jt=Workforce+Management+Analyst-+Work+from+Home&amp;fromjk=017fb16e9e5a97bc&amp;jcid=d9b614c7f35dbbcf');\" rel=\"noopener\" target=\"_blank\" title=\"Triton Technologies reviews\"></a>\n",
       " <span class=\"ratingsContent\">\n",
       " 3.0<svg class=\"starIcon\" height=\"12px\" role=\"img\" width=\"12px\">\n",
       " <g>\n",
       " <path d=\"M 12.00,4.34 C 12.00,4.34 7.69,3.97 7.69,3.97 7.69,3.97 6.00,0.00 6.00,0.00 6.00,0.00 4.31,3.98 4.31,3.98 4.31,3.98 0.00,4.34 0.00,4.34 0.00,4.34 3.28,7.18 3.28,7.18 3.28,7.18 2.29,11.40 2.29,11.40 2.29,11.40 6.00,9.16 6.00,9.16 6.00,9.16 9.71,11.40 9.71,11.40 9.71,11.40 8.73,7.18 8.73,7.18 8.73,7.18 12.00,4.34 12.00,4.34 Z\" style=\"fill: #FFB103\"></path>\n",
       " </g>\n",
       " </svg>\n",
       " </span>\n",
       " </span></div></div></div>]"
      ]
     },
     "metadata": {},
     "execution_count": 3
    }
   ],
   "source": [
    "div"
   ]
  },
  {
   "cell_type": "code",
   "execution_count": 19,
   "metadata": {},
   "outputs": [],
   "source": [
    "j = JobInfo(*crawler.getInfo(div[0]), \"here\")"
   ]
  },
  {
   "cell_type": "code",
   "execution_count": 22,
   "metadata": {},
   "outputs": [
    {
     "output_type": "execute_result",
     "data": {
      "text/plain": [
       "{'title': '\\nJunior Data Scientist',\n",
       " 'summarylink': '/rc/clk?jk=956bc4242ccda148&fccid=e7c5b6dbeaeea9b1&vjs=3',\n",
       " 'name': '\\nORTEC',\n",
       " 'location': 'here'}"
      ]
     },
     "metadata": {},
     "execution_count": 22
    }
   ],
   "source": [
    "j.__dict__"
   ]
  },
  {
   "cell_type": "code",
   "execution_count": 58,
   "metadata": {},
   "outputs": [
    {
     "output_type": "execute_result",
     "data": {
      "text/plain": [
       "{'title': '\\nData Science Fellow',\n",
       " 'summarylink': '/pagead/clk?mo=r&ad=-6NYlbfkN0AFcTrA1_uKpZHrLOjwp2Xyaym5SxGSiM5Y5L77SresXLp9O6CsoIptZaJuEMhR_zGKN2gn9c3kTqK4V6I8mfRTLMkDAwGdnsN54yD75HhxeJxvIt9b-NRCrXWNVkDviX4GHpU8x9omX4ozSueFNmfv4Bhb5buDaz9onqFjj8KVNyR6BK2qXEx8iDAsHuEQbxqk-ONm2y18e435tRKMLZhK2D8cTKrz-iqIV1-II4phJqk7vgPj4Sp4XoS5iEeVImPwcwb27nXf6bhmh6OYXHCJiCeG96gH1q2ly5n-_lEQ1rIjUNvs47PeEGJCqoGMhuGW_GilVmuyxFUp3x1S7Kg2jHekKFCkzALEcnqmaFRRDQljRZlA5w8tGonDMRIHfLXMOCZ_GA71qYVOMP-4eVwkGLW-J4f95n6W_sv3_NG8axQCFbIh4oXMkJXnSlhP2jvIyR9iLXjW7qZ3BkJP-mfh&p=0&fvj=1&vjs=3',\n",
       " 'name': '\\n\\nThe Data Incubator'}"
      ]
     },
     "metadata": {},
     "execution_count": 58
    }
   ],
   "source": [
    "info"
   ]
  },
  {
   "cell_type": "code",
   "execution_count": 55,
   "metadata": {},
   "outputs": [],
   "source": [
    "link = info['summarylink']"
   ]
  },
  {
   "cell_type": "code",
   "execution_count": 56,
   "metadata": {},
   "outputs": [
    {
     "output_type": "execute_result",
     "data": {
      "text/plain": [
       "{'link': 'https://www.indeed.com/pagead/clk?mo=r&ad=-6NYlbfkN0AFcTrA1_uKpZHrLOjwp2Xyaym5SxGSiM5Y5L77SresXLp9O6CsoIptZaJuEMhR_zGKN2gn9c3kTqK4V6I8mfRTLMkDAwGdnsN54yD75HhxeJxvIt9b-NRCrXWNVkDviX4GHpU8x9omX4ozSueFNmfv4Bhb5buDaz9onqFjj8KVNyR6BK2qXEx8iDAsHuEQbxqk-ONm2y18e435tRKMLZhK2D8cTKrz-iqIV1-II4phJqk7vgPj4Sp4XoS5iEeVImPwcwb27nXf6bhmh6OYXHCJiCeG96gH1q2ly5n-_lEQ1rIjUNvs47PeEGJCqoGMhuGW_GilVmuyxFUp3x1S7Kg2jHekKFCkzALEcnqmaFRRDQljRZlA5w8tGonDMRIHfLXMOCZ_GA71qYVOMP-4eVwkGLW-J4f95n6W_sv3_NG8axQCFbIh4oXMkJXnSlhP2jvIyR9iLXjW7qZ3BkJP-mfh&p=0&fvj=1&vjs=3',\n",
       " 'description': 'The Data Science Fellowship Program from The Data Incubator is one of the most rigorous, intensive programs available today. Designed to create the data scientists of tomorrow from qualified STEM academics, this full-time, eight-week program provides the skills needed to succeed in the “best job in America.”Apply today to learn the most in-demand tools and programs from leading data scientists with years of experience at some of the world’s most innovative companies and universities. Become an expert in Python, Spark and TensorFlow while refining your coding and deployment abilities. By the end of the program, you’ll have the skills and tools you need to become one of the leading data scientists of the future.Scholarships are available to highly-qualified, exceptional candidates. Put your best foot forward in your application for a chance to earn one of our coveted full scholarships.Hiring NetworkTo help you find a great career after completing your program, we work closely with a number of companies actively seeking the best and brightest data minds to join their teams.Have questions? Check out our FAQApplications for the next session will open on September 02, 2020.https://www.thedataincubator.com/fellowship/apply.htmlJob Types: Full-time, Part-timeSchedule:Monday to Friday'}"
      ]
     },
     "metadata": {},
     "execution_count": 56
    }
   ],
   "source": [
    "crawler.getJobDes(link)"
   ]
  },
  {
   "cell_type": "code",
   "execution_count": 20,
   "metadata": {},
   "outputs": [
    {
     "output_type": "stream",
     "text": [
      "\u001b[0;31mSignature:\u001b[0m\n",
      "\u001b[0mcrawler\u001b[0m\u001b[0;34m.\u001b[0m\u001b[0mgetJobDes\u001b[0m\u001b[0;34m(\u001b[0m\u001b[0;34m\u001b[0m\n",
      "\u001b[0;34m\u001b[0m    \u001b[0msummary_links\u001b[0m\u001b[0;34m:\u001b[0m \u001b[0mList\u001b[0m\u001b[0;34m[\u001b[0m\u001b[0mstr\u001b[0m\u001b[0;34m]\u001b[0m\u001b[0;34m,\u001b[0m\u001b[0;34m\u001b[0m\n",
      "\u001b[0;34m\u001b[0m    \u001b[0mbase_web\u001b[0m\u001b[0;34m:\u001b[0m \u001b[0mstr\u001b[0m \u001b[0;34m=\u001b[0m \u001b[0;34m'https://www.indeed.com'\u001b[0m\u001b[0;34m,\u001b[0m\u001b[0;34m\u001b[0m\n",
      "\u001b[0;34m\u001b[0m\u001b[0;34m)\u001b[0m \u001b[0;34m->\u001b[0m \u001b[0mpandas\u001b[0m\u001b[0;34m.\u001b[0m\u001b[0mcore\u001b[0m\u001b[0;34m.\u001b[0m\u001b[0mframe\u001b[0m\u001b[0;34m.\u001b[0m\u001b[0mDataFrame\u001b[0m\u001b[0;34m\u001b[0m\u001b[0;34m\u001b[0m\u001b[0m\n",
      "\u001b[0;31mDocstring:\u001b[0m\n",
      "[Get job descriptions from Indeed]\n",
      "\n",
      "Args:\n",
      "    summary_links (List[str]): [list of connecting links]\n",
      "    base_web (str, optional): [base linke]. Defaults to 'https://www.indeed.com'.\n",
      "\n",
      "Returns:\n",
      "    List[str]: [Return a list-like of jobdescriptions for each link provided]\n",
      "\u001b[0;31mFile:\u001b[0m      /mnt/d/personal_projects/JobPostsAnalysis/JobPostsAnalysis/src/data/sequential/Crawler.py\n",
      "\u001b[0;31mType:\u001b[0m      method\n"
     ],
     "name": "stdout"
    }
   ],
   "source": [
    "crawler.getJobDes?"
   ]
  },
  {
   "cell_type": "code",
   "execution_count": null,
   "metadata": {},
   "outputs": [],
   "source": []
  }
 ]
}