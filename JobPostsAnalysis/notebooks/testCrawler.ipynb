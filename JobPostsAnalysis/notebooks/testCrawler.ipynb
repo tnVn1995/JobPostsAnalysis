{
 "metadata": {
  "language_info": {
   "codemirror_mode": {
    "name": "ipython",
    "version": 3
   },
   "file_extension": ".py",
   "mimetype": "text/x-python",
   "name": "python",
   "nbconvert_exporter": "python",
   "pygments_lexer": "ipython3",
   "version": "3.8.5-final"
  },
  "orig_nbformat": 2,
  "kernelspec": {
   "name": "python3",
   "display_name": "Python 3.8.5 64-bit ('jobpostsanalysis': conda)",
   "metadata": {
    "interpreter": {
     "hash": "19015db015994ac3cd264c3cb16b5f5c5dacb6497ef1aa5f3a40c698ba0dc7a2"
    }
   }
  }
 },
 "nbformat": 4,
 "nbformat_minor": 2,
 "cells": [
  {
   "cell_type": "code",
   "execution_count": 13,
   "metadata": {},
   "outputs": [
    {
     "output_type": "stream",
     "name": "stdout",
     "text": [
      "The autoreload extension is already loaded. To reload it, use:\n  %reload_ext autoreload\n"
     ]
    }
   ],
   "source": [
    "%load_ext autoreload\n",
    "%autoreload 2\n",
    "from config import CONFIG, Query, JobDesc, JobInfo\n",
    "import sys\n",
    "sys.path.append(str(CONFIG.src_path / 'data' / 'sequential'))\n",
    "from Crawler import Crawler\n",
    "from proxyManager import ProxyManager\n",
    "\n"
   ]
  },
  {
   "cell_type": "code",
   "execution_count": 3,
   "metadata": {},
   "outputs": [],
   "source": [
    "URL = 'http://www.indeed.com/jobs?'\n",
    "queries = {'q':'data analyst', 'l': 'Houston, TX'}\n",
    "proxy_scraper = ProxyManager()\n",
    "proxy_scraper.refresh_proxy_status()\n",
    "crawler = Crawler()\n",
    "div = crawler.getJobPost(queries=queries, proxy_scraper=proxy_scraper)"
   ]
  },
  {
   "cell_type": "code",
   "execution_count": 19,
   "metadata": {},
   "outputs": [],
   "source": [
    "j = JobInfo(*crawler.getInfo(div[0]), \"here\")"
   ]
  },
  {
   "cell_type": "code",
   "execution_count": 22,
   "metadata": {},
   "outputs": [
    {
     "output_type": "execute_result",
     "data": {
      "text/plain": [
       "{'title': '\\nJunior Data Scientist',\n",
       " 'summarylink': '/rc/clk?jk=956bc4242ccda148&fccid=e7c5b6dbeaeea9b1&vjs=3',\n",
       " 'name': '\\nORTEC',\n",
       " 'location': 'here'}"
      ]
     },
     "metadata": {},
     "execution_count": 22
    }
   ],
   "source": [
    "j.__dict__"
   ]
  },
  {
   "cell_type": "code",
   "execution_count": 58,
   "metadata": {},
   "outputs": [
    {
     "output_type": "execute_result",
     "data": {
      "text/plain": [
       "{'title': '\\nData Science Fellow',\n",
       " 'summarylink': '/pagead/clk?mo=r&ad=-6NYlbfkN0AFcTrA1_uKpZHrLOjwp2Xyaym5SxGSiM5Y5L77SresXLp9O6CsoIptZaJuEMhR_zGKN2gn9c3kTqK4V6I8mfRTLMkDAwGdnsN54yD75HhxeJxvIt9b-NRCrXWNVkDviX4GHpU8x9omX4ozSueFNmfv4Bhb5buDaz9onqFjj8KVNyR6BK2qXEx8iDAsHuEQbxqk-ONm2y18e435tRKMLZhK2D8cTKrz-iqIV1-II4phJqk7vgPj4Sp4XoS5iEeVImPwcwb27nXf6bhmh6OYXHCJiCeG96gH1q2ly5n-_lEQ1rIjUNvs47PeEGJCqoGMhuGW_GilVmuyxFUp3x1S7Kg2jHekKFCkzALEcnqmaFRRDQljRZlA5w8tGonDMRIHfLXMOCZ_GA71qYVOMP-4eVwkGLW-J4f95n6W_sv3_NG8axQCFbIh4oXMkJXnSlhP2jvIyR9iLXjW7qZ3BkJP-mfh&p=0&fvj=1&vjs=3',\n",
       " 'name': '\\n\\nThe Data Incubator'}"
      ]
     },
     "metadata": {},
     "execution_count": 58
    }
   ],
   "source": [
    "info"
   ]
  },
  {
   "cell_type": "code",
   "execution_count": 55,
   "metadata": {},
   "outputs": [],
   "source": [
    "link = info['summarylink']"
   ]
  },
  {
   "cell_type": "code",
   "execution_count": 56,
   "metadata": {},
   "outputs": [
    {
     "output_type": "execute_result",
     "data": {
      "text/plain": [
       "{'link': 'https://www.indeed.com/pagead/clk?mo=r&ad=-6NYlbfkN0AFcTrA1_uKpZHrLOjwp2Xyaym5SxGSiM5Y5L77SresXLp9O6CsoIptZaJuEMhR_zGKN2gn9c3kTqK4V6I8mfRTLMkDAwGdnsN54yD75HhxeJxvIt9b-NRCrXWNVkDviX4GHpU8x9omX4ozSueFNmfv4Bhb5buDaz9onqFjj8KVNyR6BK2qXEx8iDAsHuEQbxqk-ONm2y18e435tRKMLZhK2D8cTKrz-iqIV1-II4phJqk7vgPj4Sp4XoS5iEeVImPwcwb27nXf6bhmh6OYXHCJiCeG96gH1q2ly5n-_lEQ1rIjUNvs47PeEGJCqoGMhuGW_GilVmuyxFUp3x1S7Kg2jHekKFCkzALEcnqmaFRRDQljRZlA5w8tGonDMRIHfLXMOCZ_GA71qYVOMP-4eVwkGLW-J4f95n6W_sv3_NG8axQCFbIh4oXMkJXnSlhP2jvIyR9iLXjW7qZ3BkJP-mfh&p=0&fvj=1&vjs=3',\n",
       " 'description': 'The Data Science Fellowship Program from The Data Incubator is one of the most rigorous, intensive programs available today. Designed to create the data scientists of tomorrow from qualified STEM academics, this full-time, eight-week program provides the skills needed to succeed in the “best job in America.”Apply today to learn the most in-demand tools and programs from leading data scientists with years of experience at some of the world’s most innovative companies and universities. Become an expert in Python, Spark and TensorFlow while refining your coding and deployment abilities. By the end of the program, you’ll have the skills and tools you need to become one of the leading data scientists of the future.Scholarships are available to highly-qualified, exceptional candidates. Put your best foot forward in your application for a chance to earn one of our coveted full scholarships.Hiring NetworkTo help you find a great career after completing your program, we work closely with a number of companies actively seeking the best and brightest data minds to join their teams.Have questions? Check out our FAQApplications for the next session will open on September 02, 2020.https://www.thedataincubator.com/fellowship/apply.htmlJob Types: Full-time, Part-timeSchedule:Monday to Friday'}"
      ]
     },
     "metadata": {},
     "execution_count": 56
    }
   ],
   "source": [
    "crawler.getJobDes(link)"
   ]
  },
  {
   "cell_type": "code",
   "execution_count": 20,
   "metadata": {},
   "outputs": [
    {
     "output_type": "stream",
     "text": [
      "\u001b[0;31mSignature:\u001b[0m\n",
      "\u001b[0mcrawler\u001b[0m\u001b[0;34m.\u001b[0m\u001b[0mgetJobDes\u001b[0m\u001b[0;34m(\u001b[0m\u001b[0;34m\u001b[0m\n",
      "\u001b[0;34m\u001b[0m    \u001b[0msummary_links\u001b[0m\u001b[0;34m:\u001b[0m \u001b[0mList\u001b[0m\u001b[0;34m[\u001b[0m\u001b[0mstr\u001b[0m\u001b[0;34m]\u001b[0m\u001b[0;34m,\u001b[0m\u001b[0;34m\u001b[0m\n",
      "\u001b[0;34m\u001b[0m    \u001b[0mbase_web\u001b[0m\u001b[0;34m:\u001b[0m \u001b[0mstr\u001b[0m \u001b[0;34m=\u001b[0m \u001b[0;34m'https://www.indeed.com'\u001b[0m\u001b[0;34m,\u001b[0m\u001b[0;34m\u001b[0m\n",
      "\u001b[0;34m\u001b[0m\u001b[0;34m)\u001b[0m \u001b[0;34m->\u001b[0m \u001b[0mpandas\u001b[0m\u001b[0;34m.\u001b[0m\u001b[0mcore\u001b[0m\u001b[0;34m.\u001b[0m\u001b[0mframe\u001b[0m\u001b[0;34m.\u001b[0m\u001b[0mDataFrame\u001b[0m\u001b[0;34m\u001b[0m\u001b[0;34m\u001b[0m\u001b[0m\n",
      "\u001b[0;31mDocstring:\u001b[0m\n",
      "[Get job descriptions from Indeed]\n",
      "\n",
      "Args:\n",
      "    summary_links (List[str]): [list of connecting links]\n",
      "    base_web (str, optional): [base linke]. Defaults to 'https://www.indeed.com'.\n",
      "\n",
      "Returns:\n",
      "    List[str]: [Return a list-like of jobdescriptions for each link provided]\n",
      "\u001b[0;31mFile:\u001b[0m      /mnt/d/personal_projects/JobPostsAnalysis/JobPostsAnalysis/src/data/sequential/Crawler.py\n",
      "\u001b[0;31mType:\u001b[0m      method\n"
     ],
     "name": "stdout"
    }
   ],
   "source": [
    "crawler.getJobDes?"
   ]
  },
  {
   "cell_type": "code",
   "execution_count": null,
   "metadata": {},
   "outputs": [],
   "source": []
  }
 ]
}