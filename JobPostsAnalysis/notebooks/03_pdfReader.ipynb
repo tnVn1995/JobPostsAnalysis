{
 "metadata": {
  "language_info": {
   "codemirror_mode": {
    "name": "ipython",
    "version": 3
   },
   "file_extension": ".py",
   "mimetype": "text/x-python",
   "name": "python",
   "nbconvert_exporter": "python",
   "pygments_lexer": "ipython3",
   "version": "3.8.5-final"
  },
  "orig_nbformat": 2,
  "kernelspec": {
   "name": "python3",
   "display_name": "Python 3.8.5 64-bit ('jobpostsanalysis': conda)",
   "metadata": {
    "interpreter": {
     "hash": "a134eccee76ee2a5312d6730b4c256413df435750bc9b712f8f2978337cad195"
    }
   }
  }
 },
 "nbformat": 4,
 "nbformat_minor": 2,
 "cells": [
  {
   "cell_type": "code",
   "execution_count": 9,
   "metadata": {},
   "outputs": [
    {
     "output_type": "stream",
     "name": "stdout",
     "text": [
      "The autoreload extension is already loaded. To reload it, use:\n  %reload_ext autoreload\n"
     ]
    }
   ],
   "source": [
    "%load_ext autoreload\n",
    "%autoreload 2\n",
    "from config import CONFIG\n",
    "\n",
    "pdfFile = CONFIG.data_path / \"raw\" / \"MyResume.pdf\"\n"
   ]
  },
  {
   "cell_type": "code",
   "execution_count": 10,
   "metadata": {},
   "outputs": [
    {
     "output_type": "execute_result",
     "data": {
      "text/plain": [
       "'309-307-3992 | txnguyen2921@gmail.com | linkedin.com/in/tnguyen2921 | github.com/tung2921\\n\\nTung Nguyen\\n\\n6216 66th St, Lubbock, TX 79424\\n\\nLubbock, TX\\nAug. 2018 – July 2020\\n\\nBloomington, IL\\nAug. 2013 – Dec 2017\\n\\nJuly 2020 – October 2020\\nBrooklyn, NY\\n\\nSep. 2019 – May 2020\\nLubbock, TX\\n\\nEducation\\n\\nTexas Tech University\\nMaster of Science in Statistics, GPA:3.6\\n\\nIllinois Wesleyan University\\nBachelor of Arts in Mathematics, GPA:3.7\\n\\nWorking Experience\\n\\nEtsy - Data Science Intern\\nEtsy inc.\\n\\ntechnologies, i.e git\\n\\nGraduate Part-time Instructor\\nTexas Tech University\\n\\ninferences\\n\\nResearch Experience\\n\\n• Introduce matching item engine using state-of-the-art object detection and unsupervised machine learning\\n\\ntechniques to improve Etsy’s recommendation system\\n\\n• Utilize Dash to create an interactive matching engine web application\\n• Maintain reproducible and well-documented codes for reliable experiments within teams using version control\\n\\n• Educated students on the application of statistics in business and scientific studies\\n• Aided students in conducting hypothesis testing, building machine learning models for data analysis and causal\\n\\n• Effective use of word and power point for clear presentation of statistical concepts to students\\n\\nSenior Thesis - Independence of Multi-Categorical Random Variables | R, HPCC\\n\\nJune 2018 – July 2020\\n\\n• Proposed a modified Pearson statistic for independence test of MCRVs on health survey data\\n• Designed statistical simulation models for reliable testing experiments on HPCC\\n• Leveraged parallel programming, reducing computing time from 10 hours to a few minutes on Linux based HPCC\\n\\nProjects\\n\\nIndeed Job Posts Analysis | Python, BeautifulSoup, NLTK, NLP (cid:135)\\n\\nJune 2020 – Present\\n\\n• Developed a web scraper for 2000 unique job posts from Indeed with BeautifulSoup\\n• Analyzed and visualized job post descriptions, showcasing job distributions in the U.S during the pandemic\\n• Performed topic modeling and summarization across tech job titles for convenient resume parsing\\n\\nMachine Learning projects | Python, Tensorflow, Opencv, RStudio, RShiny, Dash (cid:135)\\n\\nMay 2018 – Present\\n• Implemented state-of-the-art Deep Learning architecture on standard datasets, achieving comparable results to the\\n\\n• Trained and fine-tuned popular linear and non-linear machine learning models on TidyTuesday dataset, boosting\\n\\naccuracy by 30% compared to base models)\\n\\n• Interactive visualization of results using mainstream frameworks, i.e: RShiny, Dash, ..\\n\\noriginal paper\\n\\nTechnical Skills\\n\\nLanguages: Python, R, Matlab, SQL (Postgres), HTML/CSS\\nFrameworks: Tensorflow/Pytorch, Dash, RShiny\\nDeveloper Tools: Git, Docker, Linux, Google Cloud Platform, VS Code, PyCharm, RStudio\\nLibraries: Pandas, NumPy, Matplotlib, Nltk, Scikit-learn, Scipy\\n\\nAwards and Honors\\n\\nHUA YU Memorial Scholar\\n\\n\\x0c'"
      ]
     },
     "metadata": {},
     "execution_count": 10
    }
   ],
   "source": [
    "from pdfminer.high_level import extract_text\n",
    "\n",
    "text = extract_text(pdfFile)\n",
    "text"
   ]
  },
  {
   "cell_type": "code",
   "execution_count": 40,
   "metadata": {},
   "outputs": [
    {
     "output_type": "execute_result",
     "data": {
      "text/plain": [
       "'309-307-3992 | txnguyen2921@gmail.com | linkedin.com/in/tnguyen2921 | github.com/tung2921 Tung Nguyen 6216 66th St, Lubbock, TX 79424 Lubbock, TX Aug. 2018 – July 2020 Bloomington, IL Aug. 2013 – Dec 2017 July 2020 – October 2020 Brooklyn, NY Sep. 2019 – May 2020 Lubbock, TX Education Texas Tech University Master of Science in Statistics, GPA:3.6 Illinois Wesleyan University Bachelor of Arts in Mathematics, GPA:3.7 Working Experience Etsy - Data Science Intern Etsy inc. technologies, i.e git Graduate Part-time Instructor Texas Tech University inferences Research Experience • Introduce matching item engine using state-of-the-art object detection and unsupervised machine learning techniques to improve Etsy’s recommendation system • Utilize Dash to create an interactive matching engine web application • Maintain reproducible and well-documented codes for reliable experiments within teams using version control • Educated students on the application of statistics in business and scientific studies • Aided students in conducting hypothesis testing, building machine learning models for data analysis and causal • Effective use of word and power point for clear presentation of statistical concepts to students Senior Thesis - Independence of Multi-Categorical Random Variables | R, HPCC June 2018 – July 2020 • Proposed a modified Pearson statistic for independence test of MCRVs on health survey data • Designed statistical simulation models for reliable testing experiments on HPCC • Leveraged parallel programming, reducing computing time from 10 hours to a few minutes on Linux based HPCC Projects Indeed Job Posts Analysis | Python, BeautifulSoup, NLTK, NLP (cid:135) June 2020 – Present • Developed a web scraper for 2000 unique job posts from Indeed with BeautifulSoup • Analyzed and visualized job post descriptions, showcasing job distributions in the U.S during the pandemic • Performed topic modeling and summarization across tech job titles for convenient resume parsing Machine Learning projects | Python, Tensorflow, Opencv, RStudio, RShiny, Dash (cid:135) May 2018 – Present • Implemented state-of-the-art Deep Learning architecture on standard datasets, achieving comparable results to the • Trained and fine-tuned popular linear and non-linear machine learning models on TidyTuesday dataset, boosting accuracy by 30% compared to base models) • Interactive visualization of results using mainstream frameworks, i.e: RShiny, Dash, .. original paper Technical Skills Languages: Python, R, Matlab, SQL (Postgres), HTML/CSS Frameworks: Tensorflow/Pytorch, Dash, RShiny Developer Tools: Git, Docker, Linux, Google Cloud Platform, VS Code, PyCharm, RStudio Libraries: Pandas, NumPy, Matplotlib, Nltk, Scikit-learn, Scipy Awards and Honors HUA YU Memorial Scholar'"
      ]
     },
     "metadata": {},
     "execution_count": 40
    }
   ],
   "source": [
    "text_list = text.split()\n",
    "text_list[0:50]\n",
    "\" \".join(text_list)"
   ]
  },
  {
   "cell_type": "code",
   "execution_count": 37,
   "metadata": {},
   "outputs": [
    {
     "output_type": "execute_result",
     "data": {
      "text/plain": [
       "['309-307-3992',\n",
       " '|',\n",
       " 'txnguyen2921@gmail.com',\n",
       " '|',\n",
       " 'linkedin.com/in/tnguyen2921',\n",
       " '|',\n",
       " 'github.com/tung2921 Tung',\n",
       " 'Nguyen 6216',\n",
       " '66th',\n",
       " 'St,']"
      ]
     },
     "metadata": {},
     "execution_count": 37
    }
   ],
   "source": [
    "import re\n",
    "def escape_ansi(line):\n",
    "    ansi_escape = re.compile(\"[\\n\\s\\t]+\")\n",
    "    return re.sub(ansi_escape,' ', line)\n",
    "text_list_ascii = [escape_ansi(s) for s in text_list]\n",
    "text_list_ascii[0:10]"
   ]
  },
  {
   "cell_type": "code",
   "execution_count": null,
   "metadata": {},
   "outputs": [],
   "source": []
  }
 ]
}